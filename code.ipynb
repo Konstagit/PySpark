{
 "cells": [
  {
   "cell_type": "code",
   "execution_count": 1,
   "metadata": {},
   "outputs": [],
   "source": [
    "from pyspark.sql import SparkSession\n",
    "import os\n",
    "import sys\n",
    "import pandas as pd\n",
    "import pyspark.sql.functions as F\n",
    "import numpy as np"
   ]
  },
  {
   "cell_type": "code",
   "execution_count": 2,
   "metadata": {},
   "outputs": [],
   "source": [
    "os.environ['PYSPARK_PYTHON'] = sys.executable\n",
    "os.environ['PYSPARK_DRIVER_PYTHON'] = sys.executable"
   ]
  },
  {
   "cell_type": "code",
   "execution_count": 4,
   "metadata": {},
   "outputs": [],
   "source": [
    "spark=SparkSession.builder \\\n",
    ".master('local[*]') \\\n",
    ".appName('first_spark') \\\n",
    ".config(\"spark.executor.memory\", \"8g\") \\\n",
    ".config(\"spark.driver.memory\", \"8g\") \\\n",
    ".config(\"spark.executor.cores\", \"8\") \\\n",
    ".getOrCreate() #создаем сессию спарк или обращаемся к существующей указываем машину локальную\n",
    "    "
   ]
  },
  {
   "cell_type": "code",
   "execution_count": 5,
   "metadata": {},
   "outputs": [],
   "source": [
    "prev=spark.read.csv('linkage/blockunited.csv')"
   ]
  },
  {
   "cell_type": "code",
   "execution_count": 6,
   "metadata": {},
   "outputs": [
    {
     "data": {
      "text/plain": [
       "DataFrame[_c0: string, _c1: string, _c2: string, _c3: string, _c4: string, _c5: string, _c6: string, _c7: string, _c8: string, _c9: string, _c10: string, _c11: string]"
      ]
     },
     "execution_count": 6,
     "metadata": {},
     "output_type": "execute_result"
    }
   ],
   "source": [
    "prev"
   ]
  },
  {
   "cell_type": "code",
   "execution_count": 7,
   "metadata": {},
   "outputs": [
    {
     "name": "stdout",
     "output_type": "stream",
     "text": [
      "+-------+-------+-----------------+------------+------------+------------+-------+------+------+------+-------+--------+\n",
      "|    _c0|    _c1|              _c2|         _c3|         _c4|         _c5|    _c6|   _c7|   _c8|   _c9|   _c10|    _c11|\n",
      "+-------+-------+-----------------+------------+------------+------------+-------+------+------+------+-------+--------+\n",
      "|   id_1|   id_2|     cmp_fname_c1|cmp_fname_c2|cmp_lname_c1|cmp_lname_c2|cmp_sex|cmp_bd|cmp_bm|cmp_by|cmp_plz|is_match|\n",
      "|37291.0|53113.0|0.833333333333333|           ?|         1.0|           ?|    1.0|     1|     1|     1|      0|    True|\n",
      "|39086.0|47614.0|                1|           ?|         1.0|           ?|    1.0|     1|     1|     1|      1|    True|\n",
      "|70031.0|70237.0|                1|           ?|         1.0|           ?|    1.0|     1|     1|     1|      1|    True|\n",
      "|84795.0|97439.0|                1|           ?|         1.0|           ?|    1.0|     1|     1|     1|      1|    True|\n",
      "+-------+-------+-----------------+------------+------------+------------+-------+------+------+------+-------+--------+\n",
      "only showing top 5 rows\n",
      "\n"
     ]
    }
   ],
   "source": [
    "prev.show(5)"
   ]
  },
  {
   "cell_type": "code",
   "execution_count": 9,
   "metadata": {},
   "outputs": [],
   "source": [
    "parsed=(\n",
    "    spark.read # Обращаемся к сессии на чтение\n",
    "    .option('header',True) # Говорим что есть загаловки\n",
    "    .option('nullValue','?')\n",
    "    .option('inferSchema',True) #говорим чтобы формат данных сохранялся из ориг файла.Иначе бы все было строками(числа и тд)\n",
    "    .csv('linkage/blockunited.csv') # Формат файла и путь до него\n",
    ")"
   ]
  },
  {
   "cell_type": "code",
   "execution_count": 10,
   "metadata": {},
   "outputs": [
    {
     "name": "stdout",
     "output_type": "stream",
     "text": [
      "+-------+-------+-----------------+------------+------------+------------+-------+------+------+------+-------+--------+\n",
      "|   id_1|   id_2|     cmp_fname_c1|cmp_fname_c2|cmp_lname_c1|cmp_lname_c2|cmp_sex|cmp_bd|cmp_bm|cmp_by|cmp_plz|is_match|\n",
      "+-------+-------+-----------------+------------+------------+------------+-------+------+------+------+-------+--------+\n",
      "|37291.0|53113.0|0.833333333333333|        NULL|         1.0|        NULL|    1.0|   1.0|   1.0|   1.0|    0.0|    true|\n",
      "|39086.0|47614.0|              1.0|        NULL|         1.0|        NULL|    1.0|   1.0|   1.0|   1.0|    1.0|    true|\n",
      "|70031.0|70237.0|              1.0|        NULL|         1.0|        NULL|    1.0|   1.0|   1.0|   1.0|    1.0|    true|\n",
      "|84795.0|97439.0|              1.0|        NULL|         1.0|        NULL|    1.0|   1.0|   1.0|   1.0|    1.0|    true|\n",
      "|36950.0|42116.0|              1.0|        NULL|         1.0|         1.0|    1.0|   1.0|   1.0|   1.0|    1.0|    true|\n",
      "+-------+-------+-----------------+------------+------------+------------+-------+------+------+------+-------+--------+\n",
      "only showing top 5 rows\n",
      "\n"
     ]
    }
   ],
   "source": [
    "parsed.show(5)"
   ]
  },
  {
   "cell_type": "code",
   "execution_count": 11,
   "metadata": {},
   "outputs": [
    {
     "name": "stdout",
     "output_type": "stream",
     "text": [
      "root\n",
      " |-- id_1: double (nullable = true)\n",
      " |-- id_2: double (nullable = true)\n",
      " |-- cmp_fname_c1: double (nullable = true)\n",
      " |-- cmp_fname_c2: double (nullable = true)\n",
      " |-- cmp_lname_c1: double (nullable = true)\n",
      " |-- cmp_lname_c2: double (nullable = true)\n",
      " |-- cmp_sex: double (nullable = true)\n",
      " |-- cmp_bd: double (nullable = true)\n",
      " |-- cmp_bm: double (nullable = true)\n",
      " |-- cmp_by: double (nullable = true)\n",
      " |-- cmp_plz: double (nullable = true)\n",
      " |-- is_match: boolean (nullable = true)\n",
      "\n"
     ]
    }
   ],
   "source": [
    "parsed.printSchema()"
   ]
  },
  {
   "cell_type": "code",
   "execution_count": 12,
   "metadata": {},
   "outputs": [
    {
     "data": {
      "text/plain": [
       "5749133"
      ]
     },
     "execution_count": 12,
     "metadata": {},
     "output_type": "execute_result"
    }
   ],
   "source": [
    "parsed.count()"
   ]
  },
  {
   "cell_type": "code",
   "execution_count": 13,
   "metadata": {},
   "outputs": [],
   "source": [
    "parsed = parsed.dropna(subset=['is_match'])"
   ]
  },
  {
   "cell_type": "code",
   "execution_count": 14,
   "metadata": {},
   "outputs": [
    {
     "data": {
      "text/plain": [
       "5749132"
      ]
     },
     "execution_count": 14,
     "metadata": {},
     "output_type": "execute_result"
    }
   ],
   "source": [
    "parsed.count()"
   ]
  },
  {
   "cell_type": "code",
   "execution_count": 15,
   "metadata": {},
   "outputs": [],
   "source": [
    "from pyspark.sql.functions import col, when\n",
    "parsed = parsed.withColumn(\"id_1\", col(\"id_1\").cast(\"int\")) \\\n",
    "       .withColumn(\"id_2\", col(\"id_2\").cast(\"int\")) \\\n",
    "       .withColumn(\"cmp_fname_c1\", col(\"cmp_fname_c1\").cast(\"double\")) \\\n",
    "       .withColumn(\"cmp_fname_c2\", col(\"cmp_fname_c2\").cast(\"double\")) \\\n",
    "       .withColumn(\"cmp_lname_c1\", col(\"cmp_lname_c1\").cast(\"double\")) \\\n",
    "       .withColumn(\"cmp_lname_c2\", col(\"cmp_lname_c2\").cast(\"double\")) \\\n",
    "       .withColumn(\"cmp_sex\", col(\"cmp_sex\").cast(\"int\")) \\\n",
    "       .withColumn(\"cmp_bd\", col(\"cmp_bd\").cast(\"int\")) \\\n",
    "       .withColumn(\"cmp_bm\", col(\"cmp_bm\").cast(\"int\")) \\\n",
    "       .withColumn(\"cmp_by\", col(\"cmp_by\").cast(\"int\")) \\\n",
    "       .withColumn(\"cmp_plz\", col(\"cmp_plz\").cast(\"int\")) \\\n",
    "       .withColumn(\"is_match\", col(\"is_match\").cast(\"boolean\"))"
   ]
  },
  {
   "cell_type": "code",
   "execution_count": 16,
   "metadata": {},
   "outputs": [
    {
     "name": "stdout",
     "output_type": "stream",
     "text": [
      "root\n",
      " |-- id_1: integer (nullable = true)\n",
      " |-- id_2: integer (nullable = true)\n",
      " |-- cmp_fname_c1: double (nullable = true)\n",
      " |-- cmp_fname_c2: double (nullable = true)\n",
      " |-- cmp_lname_c1: double (nullable = true)\n",
      " |-- cmp_lname_c2: double (nullable = true)\n",
      " |-- cmp_sex: integer (nullable = true)\n",
      " |-- cmp_bd: integer (nullable = true)\n",
      " |-- cmp_bm: integer (nullable = true)\n",
      " |-- cmp_by: integer (nullable = true)\n",
      " |-- cmp_plz: integer (nullable = true)\n",
      " |-- is_match: boolean (nullable = true)\n",
      "\n"
     ]
    }
   ],
   "source": [
    "parsed.printSchema()"
   ]
  },
  {
   "cell_type": "code",
   "execution_count": 17,
   "metadata": {},
   "outputs": [
    {
     "name": "stdout",
     "output_type": "stream",
     "text": [
      "+-----+-----+-----------------+------------+------------+------------+-------+------+------+------+-------+--------+\n",
      "| id_1| id_2|     cmp_fname_c1|cmp_fname_c2|cmp_lname_c1|cmp_lname_c2|cmp_sex|cmp_bd|cmp_bm|cmp_by|cmp_plz|is_match|\n",
      "+-----+-----+-----------------+------------+------------+------------+-------+------+------+------+-------+--------+\n",
      "|37291|53113|0.833333333333333|        NULL|         1.0|        NULL|      1|     1|     1|     1|      0|    true|\n",
      "|39086|47614|              1.0|        NULL|         1.0|        NULL|      1|     1|     1|     1|      1|    true|\n",
      "|70031|70237|              1.0|        NULL|         1.0|        NULL|      1|     1|     1|     1|      1|    true|\n",
      "|84795|97439|              1.0|        NULL|         1.0|        NULL|      1|     1|     1|     1|      1|    true|\n",
      "|36950|42116|              1.0|        NULL|         1.0|         1.0|      1|     1|     1|     1|      1|    true|\n",
      "+-----+-----+-----------------+------------+------------+------------+-------+------+------+------+-------+--------+\n",
      "only showing top 5 rows\n",
      "\n"
     ]
    }
   ],
   "source": [
    "parsed.show(5)"
   ]
  },
  {
   "cell_type": "code",
   "execution_count": 18,
   "metadata": {},
   "outputs": [
    {
     "data": {
      "text/plain": [
       "5749132"
      ]
     },
     "execution_count": 18,
     "metadata": {},
     "output_type": "execute_result"
    }
   ],
   "source": [
    "parsed.count()"
   ]
  },
  {
   "cell_type": "code",
   "execution_count": 19,
   "metadata": {},
   "outputs": [
    {
     "data": {
      "text/plain": [
       "DataFrame[id_1: int, id_2: int, cmp_fname_c1: double, cmp_fname_c2: double, cmp_lname_c1: double, cmp_lname_c2: double, cmp_sex: int, cmp_bd: int, cmp_bm: int, cmp_by: int, cmp_plz: int, is_match: boolean]"
      ]
     },
     "execution_count": 19,
     "metadata": {},
     "output_type": "execute_result"
    }
   ],
   "source": [
    "parsed.cache()"
   ]
  },
  {
   "cell_type": "code",
   "execution_count": 21,
   "metadata": {},
   "outputs": [
    {
     "name": "stdout",
     "output_type": "stream",
     "text": [
      "+--------+-------+\n",
      "|is_match|  count|\n",
      "+--------+-------+\n",
      "|   false|5728201|\n",
      "|    true|  20931|\n",
      "+--------+-------+\n",
      "\n"
     ]
    }
   ],
   "source": [
    "parsed.groupBy('is_match').count().orderBy(F.col('count').desc()).show(5)"
   ]
  },
  {
   "cell_type": "code",
   "execution_count": 22,
   "metadata": {},
   "outputs": [
    {
     "name": "stdout",
     "output_type": "stream",
     "text": [
      "+-----------------+------------------+\n",
      "|     avg(cmp_sex)|   stddev(cmp_sex)|\n",
      "+-----------------+------------------+\n",
      "|0.955001381078048|0.2073011111689783|\n",
      "+-----------------+------------------+\n",
      "\n"
     ]
    }
   ],
   "source": [
    "parsed.agg(F.avg('cmp_sex'),F.stddev('cmp_sex')).show()"
   ]
  },
  {
   "cell_type": "code",
   "execution_count": 23,
   "metadata": {},
   "outputs": [],
   "source": [
    "parsed.createOrReplaceTempView('linkage') # Создаем временное представление нашего df с именнем linkage в котором будем выполнять SQL запросы"
   ]
  },
  {
   "cell_type": "code",
   "execution_count": 24,
   "metadata": {},
   "outputs": [
    {
     "name": "stdout",
     "output_type": "stream",
     "text": [
      "+--------+-------+\n",
      "|is_match|    cnt|\n",
      "+--------+-------+\n",
      "|   false|5728201|\n",
      "|    true|  20931|\n",
      "+--------+-------+\n",
      "\n"
     ]
    }
   ],
   "source": [
    "spark.sql('''\n",
    "            SELECT\n",
    "                is_match,\n",
    "                COUNT(*) AS cnt\n",
    "            FROM \n",
    "                linkage\n",
    "            GROUP BY\n",
    "                is_match\n",
    "            ORDER BY\n",
    "                cnt DESC\n",
    "          ''').show(5)"
   ]
  },
  {
   "cell_type": "code",
   "execution_count": 25,
   "metadata": {},
   "outputs": [
    {
     "name": "stdout",
     "output_type": "stream",
     "text": [
      "+--------+-------+\n",
      "|is_match|    cnt|\n",
      "+--------+-------+\n",
      "|   false|5728201|\n",
      "|    true|  20931|\n",
      "+--------+-------+\n",
      "\n"
     ]
    }
   ],
   "source": [
    "spark.sql('''                      \n",
    "            SELECT \n",
    "                is_match,\n",
    "                COUNT(*) AS cnt\n",
    "            FROM \n",
    "                linkage\n",
    "            GROUP BY\n",
    "                is_match\n",
    "            ORDER BY\n",
    "                cnt DESC\n",
    "          ''').show(5)"
   ]
  },
  {
   "cell_type": "code",
   "execution_count": 26,
   "metadata": {},
   "outputs": [
    {
     "name": "stdout",
     "output_type": "stream",
     "text": [
      "+-------+------------------+-----------------+-------------------+-------------------+-------------------+-------------------+------------------+-------------------+-------------------+-------------------+-------------------+\n",
      "|summary|              id_1|             id_2|       cmp_fname_c1|       cmp_fname_c2|       cmp_lname_c1|       cmp_lname_c2|           cmp_sex|             cmp_bd|             cmp_bm|             cmp_by|            cmp_plz|\n",
      "+-------+------------------+-----------------+-------------------+-------------------+-------------------+-------------------+------------------+-------------------+-------------------+-------------------+-------------------+\n",
      "|  count|           5749132|          5749132|            5748125|             103698|            5749132|               2464|           5749132|            5748337|            5748337|            5748337|            5736289|\n",
      "|   mean| 33324.48559643438|66587.43558331935| 0.7129024704429269|  0.900017671890322|0.31562781930754885|0.31841283153174393| 0.955001381078048|0.22446526708507172|0.48885529849763504| 0.2227485966810923|0.00552866147434343|\n",
      "| stddev|23659.859374488096|23620.48761326977|0.38875835961628025|0.27131761057823345|0.33423363396158345|0.36856706620066537|0.2073011111689783| 0.4172297223846244|  0.499875823677903|0.41609096298317494|0.07414914925420026|\n",
      "|    min|                 1|                6|                0.0|                0.0|                0.0|                0.0|                 0|                  0|                  0|                  0|                  0|\n",
      "|    max|             99980|           100000|                1.0|                1.0|                1.0|                1.0|                 1|                  1|                  1|                  1|                  1|\n",
      "+-------+------------------+-----------------+-------------------+-------------------+-------------------+-------------------+------------------+-------------------+-------------------+-------------------+-------------------+\n",
      "\n"
     ]
    }
   ],
   "source": [
    "parsed.describe().show()"
   ]
  },
  {
   "cell_type": "code",
   "execution_count": 27,
   "metadata": {},
   "outputs": [],
   "source": [
    "summary=parsed.describe()"
   ]
  },
  {
   "cell_type": "code",
   "execution_count": 28,
   "metadata": {},
   "outputs": [
    {
     "name": "stdout",
     "output_type": "stream",
     "text": [
      "+-------+------------------+-----------------+-------------------+-------------------+-------------------+-------------------+------------------+-------------------+-------------------+-------------------+-------------------+\n",
      "|summary|              id_1|             id_2|       cmp_fname_c1|       cmp_fname_c2|       cmp_lname_c1|       cmp_lname_c2|           cmp_sex|             cmp_bd|             cmp_bm|             cmp_by|            cmp_plz|\n",
      "+-------+------------------+-----------------+-------------------+-------------------+-------------------+-------------------+------------------+-------------------+-------------------+-------------------+-------------------+\n",
      "|  count|           5749132|          5749132|            5748125|             103698|            5749132|               2464|           5749132|            5748337|            5748337|            5748337|            5736289|\n",
      "|   mean| 33324.48559643438|66587.43558331935| 0.7129024704429269|  0.900017671890322|0.31562781930754885|0.31841283153174393| 0.955001381078048|0.22446526708507172|0.48885529849763504| 0.2227485966810923|0.00552866147434343|\n",
      "| stddev|23659.859374488096|23620.48761326977|0.38875835961628025|0.27131761057823345|0.33423363396158345|0.36856706620066537|0.2073011111689783| 0.4172297223846244|  0.499875823677903|0.41609096298317494|0.07414914925420026|\n",
      "|    min|                 1|                6|                0.0|                0.0|                0.0|                0.0|                 0|                  0|                  0|                  0|                  0|\n",
      "|    max|             99980|           100000|                1.0|                1.0|                1.0|                1.0|                 1|                  1|                  1|                  1|                  1|\n",
      "+-------+------------------+-----------------+-------------------+-------------------+-------------------+-------------------+------------------+-------------------+-------------------+-------------------+-------------------+\n",
      "\n"
     ]
    }
   ],
   "source": [
    "summary.show()"
   ]
  },
  {
   "cell_type": "code",
   "execution_count": 29,
   "metadata": {},
   "outputs": [
    {
     "name": "stdout",
     "output_type": "stream",
     "text": [
      "+-------+------------------+-------------------+-------------------+------------------+\n",
      "|summary|              id_1|       cmp_fname_c1|       cmp_fname_c2|           cmp_sex|\n",
      "+-------+------------------+-------------------+-------------------+------------------+\n",
      "|  count|           5749132|            5748125|             103698|           5749132|\n",
      "|   mean| 33324.48559643438| 0.7129024704429269|  0.900017671890322| 0.955001381078048|\n",
      "| stddev|23659.859374488096|0.38875835961628025|0.27131761057823345|0.2073011111689783|\n",
      "|    min|                 1|                0.0|                0.0|                 0|\n",
      "|    max|             99980|                1.0|                1.0|                 1|\n",
      "+-------+------------------+-------------------+-------------------+------------------+\n",
      "\n"
     ]
    }
   ],
   "source": [
    "summary.select('summary','id_1','cmp_fname_c1','cmp_fname_c2','cmp_sex').show() #Выбираем определенные столбцы"
   ]
  },
  {
   "cell_type": "code",
   "execution_count": 30,
   "metadata": {},
   "outputs": [
    {
     "name": "stdout",
     "output_type": "stream",
     "text": [
      "+-----+-----+-----------------+------------+------------+------------+-------+------+------+------+-------+--------+\n",
      "| id_1| id_2|     cmp_fname_c1|cmp_fname_c2|cmp_lname_c1|cmp_lname_c2|cmp_sex|cmp_bd|cmp_bm|cmp_by|cmp_plz|is_match|\n",
      "+-----+-----+-----------------+------------+------------+------------+-------+------+------+------+-------+--------+\n",
      "|37291|53113|0.833333333333333|        NULL|         1.0|        NULL|      1|     1|     1|     1|      0|    true|\n",
      "|39086|47614|              1.0|        NULL|         1.0|        NULL|      1|     1|     1|     1|      1|    true|\n",
      "|70031|70237|              1.0|        NULL|         1.0|        NULL|      1|     1|     1|     1|      1|    true|\n",
      "|84795|97439|              1.0|        NULL|         1.0|        NULL|      1|     1|     1|     1|      1|    true|\n",
      "|36950|42116|              1.0|        NULL|         1.0|         1.0|      1|     1|     1|     1|      1|    true|\n",
      "+-----+-----+-----------------+------------+------------+------------+-------+------+------+------+-------+--------+\n",
      "only showing top 5 rows\n",
      "\n"
     ]
    }
   ],
   "source": [
    "matches=parsed.filter(F.col('is_match')==True)\n",
    "matches.show(5)"
   ]
  },
  {
   "cell_type": "code",
   "execution_count": 31,
   "metadata": {},
   "outputs": [
    {
     "name": "stdout",
     "output_type": "stream",
     "text": [
      "+-----+-----+-----------------+------------+------------+------------+-------+------+------+------+-------+--------+\n",
      "| id_1| id_2|     cmp_fname_c1|cmp_fname_c2|cmp_lname_c1|cmp_lname_c2|cmp_sex|cmp_bd|cmp_bm|cmp_by|cmp_plz|is_match|\n",
      "+-----+-----+-----------------+------------+------------+------------+-------+------+------+------+-------+--------+\n",
      "|37291|53113|0.833333333333333|        NULL|         1.0|        NULL|      1|     1|     1|     1|      0|    true|\n",
      "|39086|47614|              1.0|        NULL|         1.0|        NULL|      1|     1|     1|     1|      1|    true|\n",
      "|70031|70237|              1.0|        NULL|         1.0|        NULL|      1|     1|     1|     1|      1|    true|\n",
      "|84795|97439|              1.0|        NULL|         1.0|        NULL|      1|     1|     1|     1|      1|    true|\n",
      "|36950|42116|              1.0|        NULL|         1.0|         1.0|      1|     1|     1|     1|      1|    true|\n",
      "+-----+-----+-----------------+------------+------------+------------+-------+------+------+------+-------+--------+\n",
      "only showing top 5 rows\n",
      "\n"
     ]
    }
   ],
   "source": [
    "matches=parsed.where('is_match=true')\n",
    "matches.show(5)"
   ]
  },
  {
   "cell_type": "code",
   "execution_count": 32,
   "metadata": {},
   "outputs": [
    {
     "name": "stdout",
     "output_type": "stream",
     "text": [
      "+-------+------------------+-----------------+-------------------+-------------------+-------------------+-------------------+-------------------+--------------------+--------------------+-------------------+-------------------+\n",
      "|summary|              id_1|             id_2|       cmp_fname_c1|       cmp_fname_c2|       cmp_lname_c1|       cmp_lname_c2|            cmp_sex|              cmp_bd|              cmp_bm|             cmp_by|            cmp_plz|\n",
      "+-------+------------------+-----------------+-------------------+-------------------+-------------------+-------------------+-------------------+--------------------+--------------------+-------------------+-------------------+\n",
      "|  count|             20931|            20931|              20922|               1333|              20931|                475|              20931|               20925|               20925|              20925|              20902|\n",
      "|   mean| 34575.72117911232|51259.95939037791| 0.9973163859635041| 0.9898900320318176| 0.9970152595958817| 0.9693701678438521|  0.987291577086618|  0.9970848267622461|  0.9979450418160095| 0.9961290322580645| 0.9584250310975027|\n",
      "| stddev|21950.312851969127|24345.73345377519|0.03650667584833679|0.08251973727615237|0.04311880753394513|0.15345280740388917|0.11201570591216435|0.053914876598079815|0.045286127452170664|0.06209804856731054|0.19962063345931916|\n",
      "|    min|                 5|                6|                0.0|                0.0|                0.0|                0.0|                  0|                   0|                   0|                  0|                  0|\n",
      "|    max|             99946|            99996|                1.0|                1.0|                1.0|                1.0|                  1|                   1|                   1|                  1|                  1|\n",
      "+-------+------------------+-----------------+-------------------+-------------------+-------------------+-------------------+-------------------+--------------------+--------------------+-------------------+-------------------+\n",
      "\n"
     ]
    }
   ],
   "source": [
    "matches_summary=matches.describe()\n",
    "matches_summary.show()"
   ]
  },
  {
   "cell_type": "code",
   "execution_count": 33,
   "metadata": {},
   "outputs": [
    {
     "name": "stdout",
     "output_type": "stream",
     "text": [
      "+-------+------------------+------------------+------------------+-------------------+------------------+-------------------+------------------+-------------------+-----------------+------------------+--------------------+\n",
      "|summary|              id_1|              id_2|      cmp_fname_c1|       cmp_fname_c2|      cmp_lname_c1|       cmp_lname_c2|           cmp_sex|             cmp_bd|           cmp_bm|            cmp_by|             cmp_plz|\n",
      "+-------+------------------+------------------+------------------+-------------------+------------------+-------------------+------------------+-------------------+-----------------+------------------+--------------------+\n",
      "|  count|           5728201|           5728201|           5727203|             102365|           5728201|               1989|           5728201|            5727412|          5727412|           5727412|             5715387|\n",
      "|   mean|33319.913548075565| 66643.44259218557|0.7118634802167144| 0.8988473514090186| 0.313138011335959|0.16295544855122537|0.9548833918362851| 0.2216425149788421|0.486995347986141|0.2199230647280133|0.002043781112285135|\n",
      "| stddev|23665.760130330575|23599.551728241313| 0.389080600969854|0.27272090294010237|0.3322812130572692| 0.1930236663528703|0.2075598885921739|0.41535182755587224|0.499830894049387|0.4141943267142966| 0.04516197989362509|\n",
      "|    min|                 1|                30|               0.0|                0.0|               0.0|                0.0|                 0|                  0|                0|                 0|                   0|\n",
      "|    max|             99980|            100000|               1.0|                1.0|               1.0|                1.0|                 1|                  1|                1|                 1|                   1|\n",
      "+-------+------------------+------------------+------------------+-------------------+------------------+-------------------+------------------+-------------------+-----------------+------------------+--------------------+\n",
      "\n"
     ]
    }
   ],
   "source": [
    "misses=parsed.filter(F.col('is_match')==False)\n",
    "misses_summary=misses.describe()\n",
    "misses_summary.show()"
   ]
  },
  {
   "cell_type": "markdown",
   "metadata": {},
   "source": [
    "Мы можем транспонировать фрейм данных, используя только функции, предоставляемые PySpark. Однако есть и другой способ выполнить эту задачу. PySpark по- зволяет конвертировать данные между фреймами Spark и pandas. Мы преобразуем рассматриваемые фреймы данных Spark в фреймы данных pandas, изменим их форму и преобразуем обратно в фреймы Spark. Благодаря небольшому размеру фреймов данных summary, match_summary I miss_summary мы можем делать это без опа- сений, хотя фреймы данных pandas целиком размещаются в памяти. Для аналогич- ных преобразований больших наборов данных в следующих главах мы будем ис- пользовать операции Spark.\n",
    "\n",
    "Преобразование в формат pandas и обратно стало возможно благодаря проекту Apache Arrow, который обеспечивает эффективную передачу данных между про- цессами ЈѴМ и Python. Библиотека РуArrow была установлена как зависимость модуля Spark SQL, когда мы установили рyspark [sql] с помощью рір."
   ]
  },
  {
   "cell_type": "code",
   "execution_count": 35,
   "metadata": {},
   "outputs": [],
   "source": [
    "summary_pandas=summary.toPandas() #Преобразовываем в pandas dataframe"
   ]
  },
  {
   "cell_type": "code",
   "execution_count": 36,
   "metadata": {},
   "outputs": [
    {
     "data": {
      "text/html": [
       "<div>\n",
       "<style scoped>\n",
       "    .dataframe tbody tr th:only-of-type {\n",
       "        vertical-align: middle;\n",
       "    }\n",
       "\n",
       "    .dataframe tbody tr th {\n",
       "        vertical-align: top;\n",
       "    }\n",
       "\n",
       "    .dataframe thead th {\n",
       "        text-align: right;\n",
       "    }\n",
       "</style>\n",
       "<table border=\"1\" class=\"dataframe\">\n",
       "  <thead>\n",
       "    <tr style=\"text-align: right;\">\n",
       "      <th></th>\n",
       "      <th>summary</th>\n",
       "      <th>id_1</th>\n",
       "      <th>id_2</th>\n",
       "      <th>cmp_fname_c1</th>\n",
       "      <th>cmp_fname_c2</th>\n",
       "      <th>cmp_lname_c1</th>\n",
       "      <th>cmp_lname_c2</th>\n",
       "      <th>cmp_sex</th>\n",
       "      <th>cmp_bd</th>\n",
       "      <th>cmp_bm</th>\n",
       "      <th>cmp_by</th>\n",
       "      <th>cmp_plz</th>\n",
       "    </tr>\n",
       "  </thead>\n",
       "  <tbody>\n",
       "    <tr>\n",
       "      <th>0</th>\n",
       "      <td>count</td>\n",
       "      <td>5749132</td>\n",
       "      <td>5749132</td>\n",
       "      <td>5748125</td>\n",
       "      <td>103698</td>\n",
       "      <td>5749132</td>\n",
       "      <td>2464</td>\n",
       "      <td>5749132</td>\n",
       "      <td>5748337</td>\n",
       "      <td>5748337</td>\n",
       "      <td>5748337</td>\n",
       "      <td>5736289</td>\n",
       "    </tr>\n",
       "    <tr>\n",
       "      <th>1</th>\n",
       "      <td>mean</td>\n",
       "      <td>33324.48559643438</td>\n",
       "      <td>66587.43558331935</td>\n",
       "      <td>0.7129024704429269</td>\n",
       "      <td>0.900017671890322</td>\n",
       "      <td>0.31562781930754885</td>\n",
       "      <td>0.31841283153174393</td>\n",
       "      <td>0.955001381078048</td>\n",
       "      <td>0.22446526708507172</td>\n",
       "      <td>0.48885529849763504</td>\n",
       "      <td>0.2227485966810923</td>\n",
       "      <td>0.00552866147434343</td>\n",
       "    </tr>\n",
       "    <tr>\n",
       "      <th>2</th>\n",
       "      <td>stddev</td>\n",
       "      <td>23659.859374488096</td>\n",
       "      <td>23620.48761326977</td>\n",
       "      <td>0.38875835961628025</td>\n",
       "      <td>0.27131761057823345</td>\n",
       "      <td>0.33423363396158345</td>\n",
       "      <td>0.36856706620066537</td>\n",
       "      <td>0.2073011111689783</td>\n",
       "      <td>0.4172297223846244</td>\n",
       "      <td>0.499875823677903</td>\n",
       "      <td>0.41609096298317494</td>\n",
       "      <td>0.07414914925420026</td>\n",
       "    </tr>\n",
       "    <tr>\n",
       "      <th>3</th>\n",
       "      <td>min</td>\n",
       "      <td>1</td>\n",
       "      <td>6</td>\n",
       "      <td>0.0</td>\n",
       "      <td>0.0</td>\n",
       "      <td>0.0</td>\n",
       "      <td>0.0</td>\n",
       "      <td>0</td>\n",
       "      <td>0</td>\n",
       "      <td>0</td>\n",
       "      <td>0</td>\n",
       "      <td>0</td>\n",
       "    </tr>\n",
       "    <tr>\n",
       "      <th>4</th>\n",
       "      <td>max</td>\n",
       "      <td>99980</td>\n",
       "      <td>100000</td>\n",
       "      <td>1.0</td>\n",
       "      <td>1.0</td>\n",
       "      <td>1.0</td>\n",
       "      <td>1.0</td>\n",
       "      <td>1</td>\n",
       "      <td>1</td>\n",
       "      <td>1</td>\n",
       "      <td>1</td>\n",
       "      <td>1</td>\n",
       "    </tr>\n",
       "  </tbody>\n",
       "</table>\n",
       "</div>"
      ],
      "text/plain": [
       "  summary                id_1               id_2         cmp_fname_c1  \\\n",
       "0   count             5749132            5749132              5748125   \n",
       "1    mean   33324.48559643438  66587.43558331935   0.7129024704429269   \n",
       "2  stddev  23659.859374488096  23620.48761326977  0.38875835961628025   \n",
       "3     min                   1                  6                  0.0   \n",
       "4     max               99980             100000                  1.0   \n",
       "\n",
       "          cmp_fname_c2         cmp_lname_c1         cmp_lname_c2  \\\n",
       "0               103698              5749132                 2464   \n",
       "1    0.900017671890322  0.31562781930754885  0.31841283153174393   \n",
       "2  0.27131761057823345  0.33423363396158345  0.36856706620066537   \n",
       "3                  0.0                  0.0                  0.0   \n",
       "4                  1.0                  1.0                  1.0   \n",
       "\n",
       "              cmp_sex               cmp_bd               cmp_bm  \\\n",
       "0             5749132              5748337              5748337   \n",
       "1   0.955001381078048  0.22446526708507172  0.48885529849763504   \n",
       "2  0.2073011111689783   0.4172297223846244    0.499875823677903   \n",
       "3                   0                    0                    0   \n",
       "4                   1                    1                    1   \n",
       "\n",
       "                cmp_by              cmp_plz  \n",
       "0              5748337              5736289  \n",
       "1   0.2227485966810923  0.00552866147434343  \n",
       "2  0.41609096298317494  0.07414914925420026  \n",
       "3                    0                    0  \n",
       "4                    1                    1  "
      ]
     },
     "execution_count": 36,
     "metadata": {},
     "output_type": "execute_result"
    }
   ],
   "source": [
    "summary_pandas.head()"
   ]
  },
  {
   "cell_type": "code",
   "execution_count": 37,
   "metadata": {},
   "outputs": [
    {
     "data": {
      "text/plain": [
       "(5, 12)"
      ]
     },
     "execution_count": 37,
     "metadata": {},
     "output_type": "execute_result"
    }
   ],
   "source": [
    "summary_pandas.shape"
   ]
  },
  {
   "cell_type": "markdown",
   "metadata": {},
   "source": [
    "Далее мы можем выполнить операцию транспонирования, чтобы поменять местами строки и столбцы, используя знакомые методы pandas:\n",
    "summary_p = summary_p.set_index('summary').transpose().reset_index ()\n",
    "42 | Глава 2\n",
    "summary_p summary_p.rename (columns={'index':'field')) =\n",
    "summary_p = summary_p.rename_axis (None, axis=1)\n",
    "summary p.shape"
   ]
  },
  {
   "cell_type": "code",
   "execution_count": 38,
   "metadata": {},
   "outputs": [],
   "source": [
    "summary_pandas = summary_pandas.set_index('summary') #Делаем колонку саммари индексом"
   ]
  },
  {
   "cell_type": "code",
   "execution_count": 39,
   "metadata": {},
   "outputs": [
    {
     "data": {
      "text/html": [
       "<div>\n",
       "<style scoped>\n",
       "    .dataframe tbody tr th:only-of-type {\n",
       "        vertical-align: middle;\n",
       "    }\n",
       "\n",
       "    .dataframe tbody tr th {\n",
       "        vertical-align: top;\n",
       "    }\n",
       "\n",
       "    .dataframe thead th {\n",
       "        text-align: right;\n",
       "    }\n",
       "</style>\n",
       "<table border=\"1\" class=\"dataframe\">\n",
       "  <thead>\n",
       "    <tr style=\"text-align: right;\">\n",
       "      <th></th>\n",
       "      <th>id_1</th>\n",
       "      <th>id_2</th>\n",
       "      <th>cmp_fname_c1</th>\n",
       "      <th>cmp_fname_c2</th>\n",
       "      <th>cmp_lname_c1</th>\n",
       "      <th>cmp_lname_c2</th>\n",
       "      <th>cmp_sex</th>\n",
       "      <th>cmp_bd</th>\n",
       "      <th>cmp_bm</th>\n",
       "      <th>cmp_by</th>\n",
       "      <th>cmp_plz</th>\n",
       "    </tr>\n",
       "    <tr>\n",
       "      <th>summary</th>\n",
       "      <th></th>\n",
       "      <th></th>\n",
       "      <th></th>\n",
       "      <th></th>\n",
       "      <th></th>\n",
       "      <th></th>\n",
       "      <th></th>\n",
       "      <th></th>\n",
       "      <th></th>\n",
       "      <th></th>\n",
       "      <th></th>\n",
       "    </tr>\n",
       "  </thead>\n",
       "  <tbody>\n",
       "    <tr>\n",
       "      <th>count</th>\n",
       "      <td>5749132</td>\n",
       "      <td>5749132</td>\n",
       "      <td>5748125</td>\n",
       "      <td>103698</td>\n",
       "      <td>5749132</td>\n",
       "      <td>2464</td>\n",
       "      <td>5749132</td>\n",
       "      <td>5748337</td>\n",
       "      <td>5748337</td>\n",
       "      <td>5748337</td>\n",
       "      <td>5736289</td>\n",
       "    </tr>\n",
       "    <tr>\n",
       "      <th>mean</th>\n",
       "      <td>33324.48559643438</td>\n",
       "      <td>66587.43558331935</td>\n",
       "      <td>0.7129024704429269</td>\n",
       "      <td>0.900017671890322</td>\n",
       "      <td>0.31562781930754885</td>\n",
       "      <td>0.31841283153174393</td>\n",
       "      <td>0.955001381078048</td>\n",
       "      <td>0.22446526708507172</td>\n",
       "      <td>0.48885529849763504</td>\n",
       "      <td>0.2227485966810923</td>\n",
       "      <td>0.00552866147434343</td>\n",
       "    </tr>\n",
       "    <tr>\n",
       "      <th>stddev</th>\n",
       "      <td>23659.859374488096</td>\n",
       "      <td>23620.48761326977</td>\n",
       "      <td>0.38875835961628025</td>\n",
       "      <td>0.27131761057823345</td>\n",
       "      <td>0.33423363396158345</td>\n",
       "      <td>0.36856706620066537</td>\n",
       "      <td>0.2073011111689783</td>\n",
       "      <td>0.4172297223846244</td>\n",
       "      <td>0.499875823677903</td>\n",
       "      <td>0.41609096298317494</td>\n",
       "      <td>0.07414914925420026</td>\n",
       "    </tr>\n",
       "    <tr>\n",
       "      <th>min</th>\n",
       "      <td>1</td>\n",
       "      <td>6</td>\n",
       "      <td>0.0</td>\n",
       "      <td>0.0</td>\n",
       "      <td>0.0</td>\n",
       "      <td>0.0</td>\n",
       "      <td>0</td>\n",
       "      <td>0</td>\n",
       "      <td>0</td>\n",
       "      <td>0</td>\n",
       "      <td>0</td>\n",
       "    </tr>\n",
       "    <tr>\n",
       "      <th>max</th>\n",
       "      <td>99980</td>\n",
       "      <td>100000</td>\n",
       "      <td>1.0</td>\n",
       "      <td>1.0</td>\n",
       "      <td>1.0</td>\n",
       "      <td>1.0</td>\n",
       "      <td>1</td>\n",
       "      <td>1</td>\n",
       "      <td>1</td>\n",
       "      <td>1</td>\n",
       "      <td>1</td>\n",
       "    </tr>\n",
       "  </tbody>\n",
       "</table>\n",
       "</div>"
      ],
      "text/plain": [
       "                       id_1               id_2         cmp_fname_c1  \\\n",
       "summary                                                               \n",
       "count               5749132            5749132              5748125   \n",
       "mean      33324.48559643438  66587.43558331935   0.7129024704429269   \n",
       "stddev   23659.859374488096  23620.48761326977  0.38875835961628025   \n",
       "min                       1                  6                  0.0   \n",
       "max                   99980             100000                  1.0   \n",
       "\n",
       "                cmp_fname_c2         cmp_lname_c1         cmp_lname_c2  \\\n",
       "summary                                                                  \n",
       "count                 103698              5749132                 2464   \n",
       "mean       0.900017671890322  0.31562781930754885  0.31841283153174393   \n",
       "stddev   0.27131761057823345  0.33423363396158345  0.36856706620066537   \n",
       "min                      0.0                  0.0                  0.0   \n",
       "max                      1.0                  1.0                  1.0   \n",
       "\n",
       "                    cmp_sex               cmp_bd               cmp_bm  \\\n",
       "summary                                                                 \n",
       "count               5749132              5748337              5748337   \n",
       "mean      0.955001381078048  0.22446526708507172  0.48885529849763504   \n",
       "stddev   0.2073011111689783   0.4172297223846244    0.499875823677903   \n",
       "min                       0                    0                    0   \n",
       "max                       1                    1                    1   \n",
       "\n",
       "                      cmp_by              cmp_plz  \n",
       "summary                                            \n",
       "count                5748337              5736289  \n",
       "mean      0.2227485966810923  0.00552866147434343  \n",
       "stddev   0.41609096298317494  0.07414914925420026  \n",
       "min                        0                    0  \n",
       "max                        1                    1  "
      ]
     },
     "execution_count": 39,
     "metadata": {},
     "output_type": "execute_result"
    }
   ],
   "source": [
    "summary_pandas.head()"
   ]
  },
  {
   "cell_type": "code",
   "execution_count": 40,
   "metadata": {},
   "outputs": [
    {
     "data": {
      "text/html": [
       "<div>\n",
       "<style scoped>\n",
       "    .dataframe tbody tr th:only-of-type {\n",
       "        vertical-align: middle;\n",
       "    }\n",
       "\n",
       "    .dataframe tbody tr th {\n",
       "        vertical-align: top;\n",
       "    }\n",
       "\n",
       "    .dataframe thead th {\n",
       "        text-align: right;\n",
       "    }\n",
       "</style>\n",
       "<table border=\"1\" class=\"dataframe\">\n",
       "  <thead>\n",
       "    <tr style=\"text-align: right;\">\n",
       "      <th>summary</th>\n",
       "      <th>count</th>\n",
       "      <th>mean</th>\n",
       "      <th>stddev</th>\n",
       "      <th>min</th>\n",
       "      <th>max</th>\n",
       "    </tr>\n",
       "  </thead>\n",
       "  <tbody>\n",
       "    <tr>\n",
       "      <th>id_1</th>\n",
       "      <td>5749132</td>\n",
       "      <td>33324.48559643438</td>\n",
       "      <td>23659.859374488096</td>\n",
       "      <td>1</td>\n",
       "      <td>99980</td>\n",
       "    </tr>\n",
       "    <tr>\n",
       "      <th>id_2</th>\n",
       "      <td>5749132</td>\n",
       "      <td>66587.43558331935</td>\n",
       "      <td>23620.48761326977</td>\n",
       "      <td>6</td>\n",
       "      <td>100000</td>\n",
       "    </tr>\n",
       "    <tr>\n",
       "      <th>cmp_fname_c1</th>\n",
       "      <td>5748125</td>\n",
       "      <td>0.7129024704429269</td>\n",
       "      <td>0.38875835961628025</td>\n",
       "      <td>0.0</td>\n",
       "      <td>1.0</td>\n",
       "    </tr>\n",
       "    <tr>\n",
       "      <th>cmp_fname_c2</th>\n",
       "      <td>103698</td>\n",
       "      <td>0.900017671890322</td>\n",
       "      <td>0.27131761057823345</td>\n",
       "      <td>0.0</td>\n",
       "      <td>1.0</td>\n",
       "    </tr>\n",
       "    <tr>\n",
       "      <th>cmp_lname_c1</th>\n",
       "      <td>5749132</td>\n",
       "      <td>0.31562781930754885</td>\n",
       "      <td>0.33423363396158345</td>\n",
       "      <td>0.0</td>\n",
       "      <td>1.0</td>\n",
       "    </tr>\n",
       "  </tbody>\n",
       "</table>\n",
       "</div>"
      ],
      "text/plain": [
       "summary         count                 mean               stddev  min     max\n",
       "id_1          5749132    33324.48559643438   23659.859374488096    1   99980\n",
       "id_2          5749132    66587.43558331935    23620.48761326977    6  100000\n",
       "cmp_fname_c1  5748125   0.7129024704429269  0.38875835961628025  0.0     1.0\n",
       "cmp_fname_c2   103698    0.900017671890322  0.27131761057823345  0.0     1.0\n",
       "cmp_lname_c1  5749132  0.31562781930754885  0.33423363396158345  0.0     1.0"
      ]
     },
     "execution_count": 40,
     "metadata": {},
     "output_type": "execute_result"
    }
   ],
   "source": [
    "summary_pandas = summary_pandas.transpose()  #Меняем индексы на имена столбцов\n",
    "summary_pandas.head()"
   ]
  },
  {
   "cell_type": "code",
   "execution_count": 41,
   "metadata": {},
   "outputs": [
    {
     "data": {
      "text/html": [
       "<div>\n",
       "<style scoped>\n",
       "    .dataframe tbody tr th:only-of-type {\n",
       "        vertical-align: middle;\n",
       "    }\n",
       "\n",
       "    .dataframe tbody tr th {\n",
       "        vertical-align: top;\n",
       "    }\n",
       "\n",
       "    .dataframe thead th {\n",
       "        text-align: right;\n",
       "    }\n",
       "</style>\n",
       "<table border=\"1\" class=\"dataframe\">\n",
       "  <thead>\n",
       "    <tr style=\"text-align: right;\">\n",
       "      <th>summary</th>\n",
       "      <th>index</th>\n",
       "      <th>count</th>\n",
       "      <th>mean</th>\n",
       "      <th>stddev</th>\n",
       "      <th>min</th>\n",
       "      <th>max</th>\n",
       "    </tr>\n",
       "  </thead>\n",
       "  <tbody>\n",
       "    <tr>\n",
       "      <th>0</th>\n",
       "      <td>id_1</td>\n",
       "      <td>5749132</td>\n",
       "      <td>33324.48559643438</td>\n",
       "      <td>23659.859374488096</td>\n",
       "      <td>1</td>\n",
       "      <td>99980</td>\n",
       "    </tr>\n",
       "    <tr>\n",
       "      <th>1</th>\n",
       "      <td>id_2</td>\n",
       "      <td>5749132</td>\n",
       "      <td>66587.43558331935</td>\n",
       "      <td>23620.48761326977</td>\n",
       "      <td>6</td>\n",
       "      <td>100000</td>\n",
       "    </tr>\n",
       "    <tr>\n",
       "      <th>2</th>\n",
       "      <td>cmp_fname_c1</td>\n",
       "      <td>5748125</td>\n",
       "      <td>0.7129024704429269</td>\n",
       "      <td>0.38875835961628025</td>\n",
       "      <td>0.0</td>\n",
       "      <td>1.0</td>\n",
       "    </tr>\n",
       "    <tr>\n",
       "      <th>3</th>\n",
       "      <td>cmp_fname_c2</td>\n",
       "      <td>103698</td>\n",
       "      <td>0.900017671890322</td>\n",
       "      <td>0.27131761057823345</td>\n",
       "      <td>0.0</td>\n",
       "      <td>1.0</td>\n",
       "    </tr>\n",
       "    <tr>\n",
       "      <th>4</th>\n",
       "      <td>cmp_lname_c1</td>\n",
       "      <td>5749132</td>\n",
       "      <td>0.31562781930754885</td>\n",
       "      <td>0.33423363396158345</td>\n",
       "      <td>0.0</td>\n",
       "      <td>1.0</td>\n",
       "    </tr>\n",
       "  </tbody>\n",
       "</table>\n",
       "</div>"
      ],
      "text/plain": [
       "summary         index    count                 mean               stddev  min  \\\n",
       "0                id_1  5749132    33324.48559643438   23659.859374488096    1   \n",
       "1                id_2  5749132    66587.43558331935    23620.48761326977    6   \n",
       "2        cmp_fname_c1  5748125   0.7129024704429269  0.38875835961628025  0.0   \n",
       "3        cmp_fname_c2   103698    0.900017671890322  0.27131761057823345  0.0   \n",
       "4        cmp_lname_c1  5749132  0.31562781930754885  0.33423363396158345  0.0   \n",
       "\n",
       "summary     max  \n",
       "0         99980  \n",
       "1        100000  \n",
       "2           1.0  \n",
       "3           1.0  \n",
       "4           1.0  "
      ]
     },
     "execution_count": 41,
     "metadata": {},
     "output_type": "execute_result"
    }
   ],
   "source": [
    "summary_pandas = summary_pandas.reset_index() #Сбрасываем индексы(колонку summary),в итоге то что было в ней становится столбцом с именем индекс\n",
    "                                              # Сама summary остается индексом\n",
    "summary_pandas.head()"
   ]
  },
  {
   "cell_type": "code",
   "execution_count": 42,
   "metadata": {},
   "outputs": [
    {
     "data": {
      "text/html": [
       "<div>\n",
       "<style scoped>\n",
       "    .dataframe tbody tr th:only-of-type {\n",
       "        vertical-align: middle;\n",
       "    }\n",
       "\n",
       "    .dataframe tbody tr th {\n",
       "        vertical-align: top;\n",
       "    }\n",
       "\n",
       "    .dataframe thead th {\n",
       "        text-align: right;\n",
       "    }\n",
       "</style>\n",
       "<table border=\"1\" class=\"dataframe\">\n",
       "  <thead>\n",
       "    <tr style=\"text-align: right;\">\n",
       "      <th>summary</th>\n",
       "      <th>field</th>\n",
       "      <th>count</th>\n",
       "      <th>mean</th>\n",
       "      <th>stddev</th>\n",
       "      <th>min</th>\n",
       "      <th>max</th>\n",
       "    </tr>\n",
       "  </thead>\n",
       "  <tbody>\n",
       "    <tr>\n",
       "      <th>0</th>\n",
       "      <td>id_1</td>\n",
       "      <td>5749132</td>\n",
       "      <td>33324.48559643438</td>\n",
       "      <td>23659.859374488096</td>\n",
       "      <td>1</td>\n",
       "      <td>99980</td>\n",
       "    </tr>\n",
       "    <tr>\n",
       "      <th>1</th>\n",
       "      <td>id_2</td>\n",
       "      <td>5749132</td>\n",
       "      <td>66587.43558331935</td>\n",
       "      <td>23620.48761326977</td>\n",
       "      <td>6</td>\n",
       "      <td>100000</td>\n",
       "    </tr>\n",
       "    <tr>\n",
       "      <th>2</th>\n",
       "      <td>cmp_fname_c1</td>\n",
       "      <td>5748125</td>\n",
       "      <td>0.7129024704429269</td>\n",
       "      <td>0.38875835961628025</td>\n",
       "      <td>0.0</td>\n",
       "      <td>1.0</td>\n",
       "    </tr>\n",
       "    <tr>\n",
       "      <th>3</th>\n",
       "      <td>cmp_fname_c2</td>\n",
       "      <td>103698</td>\n",
       "      <td>0.900017671890322</td>\n",
       "      <td>0.27131761057823345</td>\n",
       "      <td>0.0</td>\n",
       "      <td>1.0</td>\n",
       "    </tr>\n",
       "    <tr>\n",
       "      <th>4</th>\n",
       "      <td>cmp_lname_c1</td>\n",
       "      <td>5749132</td>\n",
       "      <td>0.31562781930754885</td>\n",
       "      <td>0.33423363396158345</td>\n",
       "      <td>0.0</td>\n",
       "      <td>1.0</td>\n",
       "    </tr>\n",
       "  </tbody>\n",
       "</table>\n",
       "</div>"
      ],
      "text/plain": [
       "summary         field    count                 mean               stddev  min  \\\n",
       "0                id_1  5749132    33324.48559643438   23659.859374488096    1   \n",
       "1                id_2  5749132    66587.43558331935    23620.48761326977    6   \n",
       "2        cmp_fname_c1  5748125   0.7129024704429269  0.38875835961628025  0.0   \n",
       "3        cmp_fname_c2   103698    0.900017671890322  0.27131761057823345  0.0   \n",
       "4        cmp_lname_c1  5749132  0.31562781930754885  0.33423363396158345  0.0   \n",
       "\n",
       "summary     max  \n",
       "0         99980  \n",
       "1        100000  \n",
       "2           1.0  \n",
       "3           1.0  \n",
       "4           1.0  "
      ]
     },
     "execution_count": 42,
     "metadata": {},
     "output_type": "execute_result"
    }
   ],
   "source": [
    "summary_pandas=summary_pandas.rename(columns={'index':'field'})\n",
    "summary_pandas.head()"
   ]
  },
  {
   "cell_type": "code",
   "execution_count": 43,
   "metadata": {},
   "outputs": [
    {
     "data": {
      "text/html": [
       "<div>\n",
       "<style scoped>\n",
       "    .dataframe tbody tr th:only-of-type {\n",
       "        vertical-align: middle;\n",
       "    }\n",
       "\n",
       "    .dataframe tbody tr th {\n",
       "        vertical-align: top;\n",
       "    }\n",
       "\n",
       "    .dataframe thead th {\n",
       "        text-align: right;\n",
       "    }\n",
       "</style>\n",
       "<table border=\"1\" class=\"dataframe\">\n",
       "  <thead>\n",
       "    <tr style=\"text-align: right;\">\n",
       "      <th></th>\n",
       "      <th>field</th>\n",
       "      <th>count</th>\n",
       "      <th>mean</th>\n",
       "      <th>stddev</th>\n",
       "      <th>min</th>\n",
       "      <th>max</th>\n",
       "    </tr>\n",
       "  </thead>\n",
       "  <tbody>\n",
       "    <tr>\n",
       "      <th>0</th>\n",
       "      <td>id_1</td>\n",
       "      <td>5749132</td>\n",
       "      <td>33324.48559643438</td>\n",
       "      <td>23659.859374488096</td>\n",
       "      <td>1</td>\n",
       "      <td>99980</td>\n",
       "    </tr>\n",
       "    <tr>\n",
       "      <th>1</th>\n",
       "      <td>id_2</td>\n",
       "      <td>5749132</td>\n",
       "      <td>66587.43558331935</td>\n",
       "      <td>23620.48761326977</td>\n",
       "      <td>6</td>\n",
       "      <td>100000</td>\n",
       "    </tr>\n",
       "    <tr>\n",
       "      <th>2</th>\n",
       "      <td>cmp_fname_c1</td>\n",
       "      <td>5748125</td>\n",
       "      <td>0.7129024704429269</td>\n",
       "      <td>0.38875835961628025</td>\n",
       "      <td>0.0</td>\n",
       "      <td>1.0</td>\n",
       "    </tr>\n",
       "    <tr>\n",
       "      <th>3</th>\n",
       "      <td>cmp_fname_c2</td>\n",
       "      <td>103698</td>\n",
       "      <td>0.900017671890322</td>\n",
       "      <td>0.27131761057823345</td>\n",
       "      <td>0.0</td>\n",
       "      <td>1.0</td>\n",
       "    </tr>\n",
       "    <tr>\n",
       "      <th>4</th>\n",
       "      <td>cmp_lname_c1</td>\n",
       "      <td>5749132</td>\n",
       "      <td>0.31562781930754885</td>\n",
       "      <td>0.33423363396158345</td>\n",
       "      <td>0.0</td>\n",
       "      <td>1.0</td>\n",
       "    </tr>\n",
       "  </tbody>\n",
       "</table>\n",
       "</div>"
      ],
      "text/plain": [
       "          field    count                 mean               stddev  min  \\\n",
       "0          id_1  5749132    33324.48559643438   23659.859374488096    1   \n",
       "1          id_2  5749132    66587.43558331935    23620.48761326977    6   \n",
       "2  cmp_fname_c1  5748125   0.7129024704429269  0.38875835961628025  0.0   \n",
       "3  cmp_fname_c2   103698    0.900017671890322  0.27131761057823345  0.0   \n",
       "4  cmp_lname_c1  5749132  0.31562781930754885  0.33423363396158345  0.0   \n",
       "\n",
       "      max  \n",
       "0   99980  \n",
       "1  100000  \n",
       "2     1.0  \n",
       "3     1.0  \n",
       "4     1.0  "
      ]
     },
     "execution_count": 43,
     "metadata": {},
     "output_type": "execute_result"
    }
   ],
   "source": [
    "summary_pandas=summary_pandas.rename_axis(None, axis=1) #Каким то образом убираем первый столбец\n",
    "summary_pandas.head()"
   ]
  },
  {
   "cell_type": "code",
   "execution_count": 44,
   "metadata": {},
   "outputs": [
    {
     "data": {
      "text/plain": [
       "(11, 6)"
      ]
     },
     "execution_count": 44,
     "metadata": {},
     "output_type": "execute_result"
    }
   ],
   "source": [
    "summary_pandas.shape"
   ]
  },
  {
   "cell_type": "markdown",
   "metadata": {},
   "source": [
    "##### 2 способ\n",
    "\n",
    "Метод melt в Pandas используется для преобразования данных из широкого формата в длинный формат. Это полезно, когда вам нужно сделать из данных с большим количеством столбцов данные с меньшим количеством столбцов, но большим количеством строк.\n",
    "\n",
    "DataFrame.melt(id_vars=None, value_vars=None, var_name=None, value_name='value', col_level=None, ignore_index=True)\n",
    "\n",
    "Параметры\n",
    "id_vars: Указывает, какие столбцы должны оставаться неизменными (идентификаторы).\n",
    "\n",
    "value_vars: Указывает, какие столбцы нужно трансформировать в строки (по умолчанию используются все столбцы, не указанные в id_vars).\n",
    "\n",
    "var_name: Имя нового столбца, который будет содержать имена исходных столбцов.\n",
    "\n",
    "value_name: Имя нового столбца, который будет содержать значения из исходных столбцов.\n",
    "\n",
    "col_level: Если колонки являются MultiIndex, указывает, какой уровень использовать.\n",
    "\n",
    "ignore_index: Если True, то старый индекс будет отброшен."
   ]
  },
  {
   "cell_type": "code",
   "execution_count": 45,
   "metadata": {},
   "outputs": [],
   "source": [
    "summary_pandas2=summary.toPandas()"
   ]
  },
  {
   "cell_type": "code",
   "execution_count": 47,
   "metadata": {},
   "outputs": [
    {
     "data": {
      "text/html": [
       "<div>\n",
       "<style scoped>\n",
       "    .dataframe tbody tr th:only-of-type {\n",
       "        vertical-align: middle;\n",
       "    }\n",
       "\n",
       "    .dataframe tbody tr th {\n",
       "        vertical-align: top;\n",
       "    }\n",
       "\n",
       "    .dataframe thead th {\n",
       "        text-align: right;\n",
       "    }\n",
       "</style>\n",
       "<table border=\"1\" class=\"dataframe\">\n",
       "  <thead>\n",
       "    <tr style=\"text-align: right;\">\n",
       "      <th></th>\n",
       "      <th>summary</th>\n",
       "      <th>id_1</th>\n",
       "      <th>id_2</th>\n",
       "      <th>cmp_fname_c1</th>\n",
       "      <th>cmp_fname_c2</th>\n",
       "      <th>cmp_lname_c1</th>\n",
       "      <th>cmp_lname_c2</th>\n",
       "      <th>cmp_sex</th>\n",
       "      <th>cmp_bd</th>\n",
       "      <th>cmp_bm</th>\n",
       "      <th>cmp_by</th>\n",
       "      <th>cmp_plz</th>\n",
       "    </tr>\n",
       "  </thead>\n",
       "  <tbody>\n",
       "    <tr>\n",
       "      <th>0</th>\n",
       "      <td>count</td>\n",
       "      <td>5749132</td>\n",
       "      <td>5749132</td>\n",
       "      <td>5748125</td>\n",
       "      <td>103698</td>\n",
       "      <td>5749132</td>\n",
       "      <td>2464</td>\n",
       "      <td>5749132</td>\n",
       "      <td>5748337</td>\n",
       "      <td>5748337</td>\n",
       "      <td>5748337</td>\n",
       "      <td>5736289</td>\n",
       "    </tr>\n",
       "    <tr>\n",
       "      <th>1</th>\n",
       "      <td>mean</td>\n",
       "      <td>33324.48559643438</td>\n",
       "      <td>66587.43558331935</td>\n",
       "      <td>0.7129024704429269</td>\n",
       "      <td>0.900017671890322</td>\n",
       "      <td>0.31562781930754885</td>\n",
       "      <td>0.31841283153174393</td>\n",
       "      <td>0.955001381078048</td>\n",
       "      <td>0.22446526708507172</td>\n",
       "      <td>0.48885529849763504</td>\n",
       "      <td>0.2227485966810923</td>\n",
       "      <td>0.00552866147434343</td>\n",
       "    </tr>\n",
       "    <tr>\n",
       "      <th>2</th>\n",
       "      <td>stddev</td>\n",
       "      <td>23659.859374488096</td>\n",
       "      <td>23620.48761326977</td>\n",
       "      <td>0.38875835961628025</td>\n",
       "      <td>0.27131761057823345</td>\n",
       "      <td>0.33423363396158345</td>\n",
       "      <td>0.36856706620066537</td>\n",
       "      <td>0.2073011111689783</td>\n",
       "      <td>0.4172297223846244</td>\n",
       "      <td>0.499875823677903</td>\n",
       "      <td>0.41609096298317494</td>\n",
       "      <td>0.07414914925420026</td>\n",
       "    </tr>\n",
       "    <tr>\n",
       "      <th>3</th>\n",
       "      <td>min</td>\n",
       "      <td>1</td>\n",
       "      <td>6</td>\n",
       "      <td>0.0</td>\n",
       "      <td>0.0</td>\n",
       "      <td>0.0</td>\n",
       "      <td>0.0</td>\n",
       "      <td>0</td>\n",
       "      <td>0</td>\n",
       "      <td>0</td>\n",
       "      <td>0</td>\n",
       "      <td>0</td>\n",
       "    </tr>\n",
       "    <tr>\n",
       "      <th>4</th>\n",
       "      <td>max</td>\n",
       "      <td>99980</td>\n",
       "      <td>100000</td>\n",
       "      <td>1.0</td>\n",
       "      <td>1.0</td>\n",
       "      <td>1.0</td>\n",
       "      <td>1.0</td>\n",
       "      <td>1</td>\n",
       "      <td>1</td>\n",
       "      <td>1</td>\n",
       "      <td>1</td>\n",
       "      <td>1</td>\n",
       "    </tr>\n",
       "  </tbody>\n",
       "</table>\n",
       "</div>"
      ],
      "text/plain": [
       "  summary                id_1               id_2         cmp_fname_c1  \\\n",
       "0   count             5749132            5749132              5748125   \n",
       "1    mean   33324.48559643438  66587.43558331935   0.7129024704429269   \n",
       "2  stddev  23659.859374488096  23620.48761326977  0.38875835961628025   \n",
       "3     min                   1                  6                  0.0   \n",
       "4     max               99980             100000                  1.0   \n",
       "\n",
       "          cmp_fname_c2         cmp_lname_c1         cmp_lname_c2  \\\n",
       "0               103698              5749132                 2464   \n",
       "1    0.900017671890322  0.31562781930754885  0.31841283153174393   \n",
       "2  0.27131761057823345  0.33423363396158345  0.36856706620066537   \n",
       "3                  0.0                  0.0                  0.0   \n",
       "4                  1.0                  1.0                  1.0   \n",
       "\n",
       "              cmp_sex               cmp_bd               cmp_bm  \\\n",
       "0             5749132              5748337              5748337   \n",
       "1   0.955001381078048  0.22446526708507172  0.48885529849763504   \n",
       "2  0.2073011111689783   0.4172297223846244    0.499875823677903   \n",
       "3                   0                    0                    0   \n",
       "4                   1                    1                    1   \n",
       "\n",
       "                cmp_by              cmp_plz  \n",
       "0              5748337              5736289  \n",
       "1   0.2227485966810923  0.00552866147434343  \n",
       "2  0.41609096298317494  0.07414914925420026  \n",
       "3                    0                    0  \n",
       "4                    1                    1  "
      ]
     },
     "execution_count": 47,
     "metadata": {},
     "output_type": "execute_result"
    }
   ],
   "source": [
    "summary_pandas2.head(6)"
   ]
  },
  {
   "cell_type": "code",
   "execution_count": 48,
   "metadata": {},
   "outputs": [
    {
     "data": {
      "text/html": [
       "<div>\n",
       "<style scoped>\n",
       "    .dataframe tbody tr th:only-of-type {\n",
       "        vertical-align: middle;\n",
       "    }\n",
       "\n",
       "    .dataframe tbody tr th {\n",
       "        vertical-align: top;\n",
       "    }\n",
       "\n",
       "    .dataframe thead th {\n",
       "        text-align: right;\n",
       "    }\n",
       "</style>\n",
       "<table border=\"1\" class=\"dataframe\">\n",
       "  <thead>\n",
       "    <tr style=\"text-align: right;\">\n",
       "      <th></th>\n",
       "      <th>summary</th>\n",
       "      <th>field</th>\n",
       "      <th>value</th>\n",
       "    </tr>\n",
       "  </thead>\n",
       "  <tbody>\n",
       "    <tr>\n",
       "      <th>0</th>\n",
       "      <td>count</td>\n",
       "      <td>id_1</td>\n",
       "      <td>5749132</td>\n",
       "    </tr>\n",
       "    <tr>\n",
       "      <th>1</th>\n",
       "      <td>mean</td>\n",
       "      <td>id_1</td>\n",
       "      <td>33324.48559643438</td>\n",
       "    </tr>\n",
       "    <tr>\n",
       "      <th>2</th>\n",
       "      <td>stddev</td>\n",
       "      <td>id_1</td>\n",
       "      <td>23659.859374488096</td>\n",
       "    </tr>\n",
       "    <tr>\n",
       "      <th>3</th>\n",
       "      <td>min</td>\n",
       "      <td>id_1</td>\n",
       "      <td>1</td>\n",
       "    </tr>\n",
       "    <tr>\n",
       "      <th>4</th>\n",
       "      <td>max</td>\n",
       "      <td>id_1</td>\n",
       "      <td>99980</td>\n",
       "    </tr>\n",
       "    <tr>\n",
       "      <th>5</th>\n",
       "      <td>count</td>\n",
       "      <td>id_2</td>\n",
       "      <td>5749132</td>\n",
       "    </tr>\n",
       "    <tr>\n",
       "      <th>6</th>\n",
       "      <td>mean</td>\n",
       "      <td>id_2</td>\n",
       "      <td>66587.43558331935</td>\n",
       "    </tr>\n",
       "    <tr>\n",
       "      <th>7</th>\n",
       "      <td>stddev</td>\n",
       "      <td>id_2</td>\n",
       "      <td>23620.48761326977</td>\n",
       "    </tr>\n",
       "    <tr>\n",
       "      <th>8</th>\n",
       "      <td>min</td>\n",
       "      <td>id_2</td>\n",
       "      <td>6</td>\n",
       "    </tr>\n",
       "    <tr>\n",
       "      <th>9</th>\n",
       "      <td>max</td>\n",
       "      <td>id_2</td>\n",
       "      <td>100000</td>\n",
       "    </tr>\n",
       "    <tr>\n",
       "      <th>10</th>\n",
       "      <td>count</td>\n",
       "      <td>cmp_fname_c1</td>\n",
       "      <td>5748125</td>\n",
       "    </tr>\n",
       "    <tr>\n",
       "      <th>11</th>\n",
       "      <td>mean</td>\n",
       "      <td>cmp_fname_c1</td>\n",
       "      <td>0.7129024704429269</td>\n",
       "    </tr>\n",
       "    <tr>\n",
       "      <th>12</th>\n",
       "      <td>stddev</td>\n",
       "      <td>cmp_fname_c1</td>\n",
       "      <td>0.38875835961628025</td>\n",
       "    </tr>\n",
       "    <tr>\n",
       "      <th>13</th>\n",
       "      <td>min</td>\n",
       "      <td>cmp_fname_c1</td>\n",
       "      <td>0.0</td>\n",
       "    </tr>\n",
       "    <tr>\n",
       "      <th>14</th>\n",
       "      <td>max</td>\n",
       "      <td>cmp_fname_c1</td>\n",
       "      <td>1.0</td>\n",
       "    </tr>\n",
       "    <tr>\n",
       "      <th>15</th>\n",
       "      <td>count</td>\n",
       "      <td>cmp_fname_c2</td>\n",
       "      <td>103698</td>\n",
       "    </tr>\n",
       "    <tr>\n",
       "      <th>16</th>\n",
       "      <td>mean</td>\n",
       "      <td>cmp_fname_c2</td>\n",
       "      <td>0.900017671890322</td>\n",
       "    </tr>\n",
       "    <tr>\n",
       "      <th>17</th>\n",
       "      <td>stddev</td>\n",
       "      <td>cmp_fname_c2</td>\n",
       "      <td>0.27131761057823345</td>\n",
       "    </tr>\n",
       "    <tr>\n",
       "      <th>18</th>\n",
       "      <td>min</td>\n",
       "      <td>cmp_fname_c2</td>\n",
       "      <td>0.0</td>\n",
       "    </tr>\n",
       "    <tr>\n",
       "      <th>19</th>\n",
       "      <td>max</td>\n",
       "      <td>cmp_fname_c2</td>\n",
       "      <td>1.0</td>\n",
       "    </tr>\n",
       "    <tr>\n",
       "      <th>20</th>\n",
       "      <td>count</td>\n",
       "      <td>cmp_lname_c1</td>\n",
       "      <td>5749132</td>\n",
       "    </tr>\n",
       "    <tr>\n",
       "      <th>21</th>\n",
       "      <td>mean</td>\n",
       "      <td>cmp_lname_c1</td>\n",
       "      <td>0.31562781930754885</td>\n",
       "    </tr>\n",
       "    <tr>\n",
       "      <th>22</th>\n",
       "      <td>stddev</td>\n",
       "      <td>cmp_lname_c1</td>\n",
       "      <td>0.33423363396158345</td>\n",
       "    </tr>\n",
       "    <tr>\n",
       "      <th>23</th>\n",
       "      <td>min</td>\n",
       "      <td>cmp_lname_c1</td>\n",
       "      <td>0.0</td>\n",
       "    </tr>\n",
       "    <tr>\n",
       "      <th>24</th>\n",
       "      <td>max</td>\n",
       "      <td>cmp_lname_c1</td>\n",
       "      <td>1.0</td>\n",
       "    </tr>\n",
       "    <tr>\n",
       "      <th>25</th>\n",
       "      <td>count</td>\n",
       "      <td>cmp_lname_c2</td>\n",
       "      <td>2464</td>\n",
       "    </tr>\n",
       "    <tr>\n",
       "      <th>26</th>\n",
       "      <td>mean</td>\n",
       "      <td>cmp_lname_c2</td>\n",
       "      <td>0.31841283153174393</td>\n",
       "    </tr>\n",
       "    <tr>\n",
       "      <th>27</th>\n",
       "      <td>stddev</td>\n",
       "      <td>cmp_lname_c2</td>\n",
       "      <td>0.36856706620066537</td>\n",
       "    </tr>\n",
       "    <tr>\n",
       "      <th>28</th>\n",
       "      <td>min</td>\n",
       "      <td>cmp_lname_c2</td>\n",
       "      <td>0.0</td>\n",
       "    </tr>\n",
       "    <tr>\n",
       "      <th>29</th>\n",
       "      <td>max</td>\n",
       "      <td>cmp_lname_c2</td>\n",
       "      <td>1.0</td>\n",
       "    </tr>\n",
       "    <tr>\n",
       "      <th>30</th>\n",
       "      <td>count</td>\n",
       "      <td>cmp_sex</td>\n",
       "      <td>5749132</td>\n",
       "    </tr>\n",
       "    <tr>\n",
       "      <th>31</th>\n",
       "      <td>mean</td>\n",
       "      <td>cmp_sex</td>\n",
       "      <td>0.955001381078048</td>\n",
       "    </tr>\n",
       "    <tr>\n",
       "      <th>32</th>\n",
       "      <td>stddev</td>\n",
       "      <td>cmp_sex</td>\n",
       "      <td>0.2073011111689783</td>\n",
       "    </tr>\n",
       "    <tr>\n",
       "      <th>33</th>\n",
       "      <td>min</td>\n",
       "      <td>cmp_sex</td>\n",
       "      <td>0</td>\n",
       "    </tr>\n",
       "    <tr>\n",
       "      <th>34</th>\n",
       "      <td>max</td>\n",
       "      <td>cmp_sex</td>\n",
       "      <td>1</td>\n",
       "    </tr>\n",
       "    <tr>\n",
       "      <th>35</th>\n",
       "      <td>count</td>\n",
       "      <td>cmp_bd</td>\n",
       "      <td>5748337</td>\n",
       "    </tr>\n",
       "    <tr>\n",
       "      <th>36</th>\n",
       "      <td>mean</td>\n",
       "      <td>cmp_bd</td>\n",
       "      <td>0.22446526708507172</td>\n",
       "    </tr>\n",
       "    <tr>\n",
       "      <th>37</th>\n",
       "      <td>stddev</td>\n",
       "      <td>cmp_bd</td>\n",
       "      <td>0.4172297223846244</td>\n",
       "    </tr>\n",
       "    <tr>\n",
       "      <th>38</th>\n",
       "      <td>min</td>\n",
       "      <td>cmp_bd</td>\n",
       "      <td>0</td>\n",
       "    </tr>\n",
       "    <tr>\n",
       "      <th>39</th>\n",
       "      <td>max</td>\n",
       "      <td>cmp_bd</td>\n",
       "      <td>1</td>\n",
       "    </tr>\n",
       "    <tr>\n",
       "      <th>40</th>\n",
       "      <td>count</td>\n",
       "      <td>cmp_bm</td>\n",
       "      <td>5748337</td>\n",
       "    </tr>\n",
       "    <tr>\n",
       "      <th>41</th>\n",
       "      <td>mean</td>\n",
       "      <td>cmp_bm</td>\n",
       "      <td>0.48885529849763504</td>\n",
       "    </tr>\n",
       "    <tr>\n",
       "      <th>42</th>\n",
       "      <td>stddev</td>\n",
       "      <td>cmp_bm</td>\n",
       "      <td>0.499875823677903</td>\n",
       "    </tr>\n",
       "    <tr>\n",
       "      <th>43</th>\n",
       "      <td>min</td>\n",
       "      <td>cmp_bm</td>\n",
       "      <td>0</td>\n",
       "    </tr>\n",
       "    <tr>\n",
       "      <th>44</th>\n",
       "      <td>max</td>\n",
       "      <td>cmp_bm</td>\n",
       "      <td>1</td>\n",
       "    </tr>\n",
       "    <tr>\n",
       "      <th>45</th>\n",
       "      <td>count</td>\n",
       "      <td>cmp_by</td>\n",
       "      <td>5748337</td>\n",
       "    </tr>\n",
       "    <tr>\n",
       "      <th>46</th>\n",
       "      <td>mean</td>\n",
       "      <td>cmp_by</td>\n",
       "      <td>0.2227485966810923</td>\n",
       "    </tr>\n",
       "    <tr>\n",
       "      <th>47</th>\n",
       "      <td>stddev</td>\n",
       "      <td>cmp_by</td>\n",
       "      <td>0.41609096298317494</td>\n",
       "    </tr>\n",
       "    <tr>\n",
       "      <th>48</th>\n",
       "      <td>min</td>\n",
       "      <td>cmp_by</td>\n",
       "      <td>0</td>\n",
       "    </tr>\n",
       "    <tr>\n",
       "      <th>49</th>\n",
       "      <td>max</td>\n",
       "      <td>cmp_by</td>\n",
       "      <td>1</td>\n",
       "    </tr>\n",
       "    <tr>\n",
       "      <th>50</th>\n",
       "      <td>count</td>\n",
       "      <td>cmp_plz</td>\n",
       "      <td>5736289</td>\n",
       "    </tr>\n",
       "    <tr>\n",
       "      <th>51</th>\n",
       "      <td>mean</td>\n",
       "      <td>cmp_plz</td>\n",
       "      <td>0.00552866147434343</td>\n",
       "    </tr>\n",
       "    <tr>\n",
       "      <th>52</th>\n",
       "      <td>stddev</td>\n",
       "      <td>cmp_plz</td>\n",
       "      <td>0.07414914925420026</td>\n",
       "    </tr>\n",
       "    <tr>\n",
       "      <th>53</th>\n",
       "      <td>min</td>\n",
       "      <td>cmp_plz</td>\n",
       "      <td>0</td>\n",
       "    </tr>\n",
       "    <tr>\n",
       "      <th>54</th>\n",
       "      <td>max</td>\n",
       "      <td>cmp_plz</td>\n",
       "      <td>1</td>\n",
       "    </tr>\n",
       "  </tbody>\n",
       "</table>\n",
       "</div>"
      ],
      "text/plain": [
       "   summary         field                value\n",
       "0    count          id_1              5749132\n",
       "1     mean          id_1    33324.48559643438\n",
       "2   stddev          id_1   23659.859374488096\n",
       "3      min          id_1                    1\n",
       "4      max          id_1                99980\n",
       "5    count          id_2              5749132\n",
       "6     mean          id_2    66587.43558331935\n",
       "7   stddev          id_2    23620.48761326977\n",
       "8      min          id_2                    6\n",
       "9      max          id_2               100000\n",
       "10   count  cmp_fname_c1              5748125\n",
       "11    mean  cmp_fname_c1   0.7129024704429269\n",
       "12  stddev  cmp_fname_c1  0.38875835961628025\n",
       "13     min  cmp_fname_c1                  0.0\n",
       "14     max  cmp_fname_c1                  1.0\n",
       "15   count  cmp_fname_c2               103698\n",
       "16    mean  cmp_fname_c2    0.900017671890322\n",
       "17  stddev  cmp_fname_c2  0.27131761057823345\n",
       "18     min  cmp_fname_c2                  0.0\n",
       "19     max  cmp_fname_c2                  1.0\n",
       "20   count  cmp_lname_c1              5749132\n",
       "21    mean  cmp_lname_c1  0.31562781930754885\n",
       "22  stddev  cmp_lname_c1  0.33423363396158345\n",
       "23     min  cmp_lname_c1                  0.0\n",
       "24     max  cmp_lname_c1                  1.0\n",
       "25   count  cmp_lname_c2                 2464\n",
       "26    mean  cmp_lname_c2  0.31841283153174393\n",
       "27  stddev  cmp_lname_c2  0.36856706620066537\n",
       "28     min  cmp_lname_c2                  0.0\n",
       "29     max  cmp_lname_c2                  1.0\n",
       "30   count       cmp_sex              5749132\n",
       "31    mean       cmp_sex    0.955001381078048\n",
       "32  stddev       cmp_sex   0.2073011111689783\n",
       "33     min       cmp_sex                    0\n",
       "34     max       cmp_sex                    1\n",
       "35   count        cmp_bd              5748337\n",
       "36    mean        cmp_bd  0.22446526708507172\n",
       "37  stddev        cmp_bd   0.4172297223846244\n",
       "38     min        cmp_bd                    0\n",
       "39     max        cmp_bd                    1\n",
       "40   count        cmp_bm              5748337\n",
       "41    mean        cmp_bm  0.48885529849763504\n",
       "42  stddev        cmp_bm    0.499875823677903\n",
       "43     min        cmp_bm                    0\n",
       "44     max        cmp_bm                    1\n",
       "45   count        cmp_by              5748337\n",
       "46    mean        cmp_by   0.2227485966810923\n",
       "47  stddev        cmp_by  0.41609096298317494\n",
       "48     min        cmp_by                    0\n",
       "49     max        cmp_by                    1\n",
       "50   count       cmp_plz              5736289\n",
       "51    mean       cmp_plz  0.00552866147434343\n",
       "52  stddev       cmp_plz  0.07414914925420026\n",
       "53     min       cmp_plz                    0\n",
       "54     max       cmp_plz                    1"
      ]
     },
     "execution_count": 48,
     "metadata": {},
     "output_type": "execute_result"
    }
   ],
   "source": [
    "# Преобразуем DataFrame в формат с одним столбцом для имен колонок\n",
    "melted_df = summary_pandas2.melt(id_vars=['summary'], var_name='field', value_name='value')\n",
    "melted_df\n"
   ]
  },
  {
   "cell_type": "code",
   "execution_count": 49,
   "metadata": {},
   "outputs": [
    {
     "data": {
      "text/html": [
       "<div>\n",
       "<style scoped>\n",
       "    .dataframe tbody tr th:only-of-type {\n",
       "        vertical-align: middle;\n",
       "    }\n",
       "\n",
       "    .dataframe tbody tr th {\n",
       "        vertical-align: top;\n",
       "    }\n",
       "\n",
       "    .dataframe thead th {\n",
       "        text-align: right;\n",
       "    }\n",
       "</style>\n",
       "<table border=\"1\" class=\"dataframe\">\n",
       "  <thead>\n",
       "    <tr style=\"text-align: right;\">\n",
       "      <th>summary</th>\n",
       "      <th>field</th>\n",
       "      <th>count</th>\n",
       "      <th>max</th>\n",
       "      <th>mean</th>\n",
       "      <th>min</th>\n",
       "      <th>stddev</th>\n",
       "    </tr>\n",
       "  </thead>\n",
       "  <tbody>\n",
       "    <tr>\n",
       "      <th>0</th>\n",
       "      <td>cmp_bd</td>\n",
       "      <td>5748337</td>\n",
       "      <td>1</td>\n",
       "      <td>0.22446526708507172</td>\n",
       "      <td>0</td>\n",
       "      <td>0.4172297223846244</td>\n",
       "    </tr>\n",
       "    <tr>\n",
       "      <th>1</th>\n",
       "      <td>cmp_bm</td>\n",
       "      <td>5748337</td>\n",
       "      <td>1</td>\n",
       "      <td>0.48885529849763504</td>\n",
       "      <td>0</td>\n",
       "      <td>0.499875823677903</td>\n",
       "    </tr>\n",
       "    <tr>\n",
       "      <th>2</th>\n",
       "      <td>cmp_by</td>\n",
       "      <td>5748337</td>\n",
       "      <td>1</td>\n",
       "      <td>0.2227485966810923</td>\n",
       "      <td>0</td>\n",
       "      <td>0.41609096298317494</td>\n",
       "    </tr>\n",
       "    <tr>\n",
       "      <th>3</th>\n",
       "      <td>cmp_fname_c1</td>\n",
       "      <td>5748125</td>\n",
       "      <td>1.0</td>\n",
       "      <td>0.7129024704429269</td>\n",
       "      <td>0.0</td>\n",
       "      <td>0.38875835961628025</td>\n",
       "    </tr>\n",
       "    <tr>\n",
       "      <th>4</th>\n",
       "      <td>cmp_fname_c2</td>\n",
       "      <td>103698</td>\n",
       "      <td>1.0</td>\n",
       "      <td>0.900017671890322</td>\n",
       "      <td>0.0</td>\n",
       "      <td>0.27131761057823345</td>\n",
       "    </tr>\n",
       "    <tr>\n",
       "      <th>5</th>\n",
       "      <td>cmp_lname_c1</td>\n",
       "      <td>5749132</td>\n",
       "      <td>1.0</td>\n",
       "      <td>0.31562781930754885</td>\n",
       "      <td>0.0</td>\n",
       "      <td>0.33423363396158345</td>\n",
       "    </tr>\n",
       "    <tr>\n",
       "      <th>6</th>\n",
       "      <td>cmp_lname_c2</td>\n",
       "      <td>2464</td>\n",
       "      <td>1.0</td>\n",
       "      <td>0.31841283153174393</td>\n",
       "      <td>0.0</td>\n",
       "      <td>0.36856706620066537</td>\n",
       "    </tr>\n",
       "    <tr>\n",
       "      <th>7</th>\n",
       "      <td>cmp_plz</td>\n",
       "      <td>5736289</td>\n",
       "      <td>1</td>\n",
       "      <td>0.00552866147434343</td>\n",
       "      <td>0</td>\n",
       "      <td>0.07414914925420026</td>\n",
       "    </tr>\n",
       "    <tr>\n",
       "      <th>8</th>\n",
       "      <td>cmp_sex</td>\n",
       "      <td>5749132</td>\n",
       "      <td>1</td>\n",
       "      <td>0.955001381078048</td>\n",
       "      <td>0</td>\n",
       "      <td>0.2073011111689783</td>\n",
       "    </tr>\n",
       "    <tr>\n",
       "      <th>9</th>\n",
       "      <td>id_1</td>\n",
       "      <td>5749132</td>\n",
       "      <td>99980</td>\n",
       "      <td>33324.48559643438</td>\n",
       "      <td>1</td>\n",
       "      <td>23659.859374488096</td>\n",
       "    </tr>\n",
       "    <tr>\n",
       "      <th>10</th>\n",
       "      <td>id_2</td>\n",
       "      <td>5749132</td>\n",
       "      <td>100000</td>\n",
       "      <td>66587.43558331935</td>\n",
       "      <td>6</td>\n",
       "      <td>23620.48761326977</td>\n",
       "    </tr>\n",
       "  </tbody>\n",
       "</table>\n",
       "</div>"
      ],
      "text/plain": [
       "summary         field    count     max                 mean  min  \\\n",
       "0              cmp_bd  5748337       1  0.22446526708507172    0   \n",
       "1              cmp_bm  5748337       1  0.48885529849763504    0   \n",
       "2              cmp_by  5748337       1   0.2227485966810923    0   \n",
       "3        cmp_fname_c1  5748125     1.0   0.7129024704429269  0.0   \n",
       "4        cmp_fname_c2   103698     1.0    0.900017671890322  0.0   \n",
       "5        cmp_lname_c1  5749132     1.0  0.31562781930754885  0.0   \n",
       "6        cmp_lname_c2     2464     1.0  0.31841283153174393  0.0   \n",
       "7             cmp_plz  5736289       1  0.00552866147434343    0   \n",
       "8             cmp_sex  5749132       1    0.955001381078048    0   \n",
       "9                id_1  5749132   99980    33324.48559643438    1   \n",
       "10               id_2  5749132  100000    66587.43558331935    6   \n",
       "\n",
       "summary               stddev  \n",
       "0         0.4172297223846244  \n",
       "1          0.499875823677903  \n",
       "2        0.41609096298317494  \n",
       "3        0.38875835961628025  \n",
       "4        0.27131761057823345  \n",
       "5        0.33423363396158345  \n",
       "6        0.36856706620066537  \n",
       "7        0.07414914925420026  \n",
       "8         0.2073011111689783  \n",
       "9         23659.859374488096  \n",
       "10         23620.48761326977  "
      ]
     },
     "metadata": {},
     "output_type": "display_data"
    }
   ],
   "source": [
    "# Сделаем pivot таблицу, чтобы значения 'summary' стали именами колонок\n",
    "pivot_table = melted_df.pivot(index='field', columns='summary', values='value').reset_index()\n",
    "\n",
    "# Выведем результат\n",
    "display(pivot_table)"
   ]
  },
  {
   "cell_type": "markdown",
   "metadata": {},
   "source": [
    "Мы успешно транспонировали фрейм данных summary_p в pandas. Преобразуем его в\n",
    "Spark, используя метод createDataFrame B SparkSession:"
   ]
  },
  {
   "cell_type": "code",
   "execution_count": 50,
   "metadata": {},
   "outputs": [],
   "source": [
    "summary_T=spark.createDataFrame(summary_pandas)"
   ]
  },
  {
   "cell_type": "code",
   "execution_count": 51,
   "metadata": {},
   "outputs": [
    {
     "name": "stdout",
     "output_type": "stream",
     "text": [
      "[('field', 'string'), ('count', 'string'), ('mean', 'string'), ('stddev', 'string'), ('min', 'string'), ('max', 'string')]\n"
     ]
    }
   ],
   "source": [
    "print(summary_T.dtypes)"
   ]
  },
  {
   "cell_type": "code",
   "execution_count": 52,
   "metadata": {},
   "outputs": [
    {
     "name": "stdout",
     "output_type": "stream",
     "text": [
      "root\n",
      " |-- field: string (nullable = true)\n",
      " |-- count: string (nullable = true)\n",
      " |-- mean: string (nullable = true)\n",
      " |-- stddev: string (nullable = true)\n",
      " |-- min: string (nullable = true)\n",
      " |-- max: string (nullable = true)\n",
      "\n"
     ]
    }
   ],
   "source": [
    "summary_T.printSchema()"
   ]
  },
  {
   "cell_type": "code",
   "execution_count": 53,
   "metadata": {},
   "outputs": [
    {
     "name": "stdout",
     "output_type": "stream",
     "text": [
      "+------------+-------+-------------------+-------------------+---+------+\n",
      "|       field|  count|               mean|             stddev|min|   max|\n",
      "+------------+-------+-------------------+-------------------+---+------+\n",
      "|        id_1|5749132|  33324.48559643438| 23659.859374488096|  1| 99980|\n",
      "|        id_2|5749132|  66587.43558331935|  23620.48761326977|  6|100000|\n",
      "|cmp_fname_c1|5748125| 0.7129024704429269|0.38875835961628025|0.0|   1.0|\n",
      "|cmp_fname_c2| 103698|  0.900017671890322|0.27131761057823345|0.0|   1.0|\n",
      "|cmp_lname_c1|5749132|0.31562781930754885|0.33423363396158345|0.0|   1.0|\n",
      "|cmp_lname_c2|   2464|0.31841283153174393|0.36856706620066537|0.0|   1.0|\n",
      "|     cmp_sex|5749132|  0.955001381078048| 0.2073011111689783|  0|     1|\n",
      "|      cmp_bd|5748337|0.22446526708507172| 0.4172297223846244|  0|     1|\n",
      "|      cmp_bm|5748337|0.48885529849763504|  0.499875823677903|  0|     1|\n",
      "|      cmp_by|5748337| 0.2227485966810923|0.41609096298317494|  0|     1|\n",
      "|     cmp_plz|5736289|0.00552866147434343|0.07414914925420026|  0|     1|\n",
      "+------------+-------+-------------------+-------------------+---+------+\n",
      "\n"
     ]
    }
   ],
   "source": [
    "summary_T.show()"
   ]
  },
  {
   "cell_type": "code",
   "execution_count": 54,
   "metadata": {},
   "outputs": [
    {
     "name": "stdout",
     "output_type": "stream",
     "text": [
      "root\n",
      " |-- field: string (nullable = true)\n",
      " |-- count: string (nullable = true)\n",
      " |-- mean: string (nullable = true)\n",
      " |-- stddev: string (nullable = true)\n",
      " |-- min: string (nullable = true)\n",
      " |-- max: string (nullable = true)\n",
      "\n"
     ]
    }
   ],
   "source": [
    "summary_T.printSchema()"
   ]
  },
  {
   "cell_type": "code",
   "execution_count": 55,
   "metadata": {},
   "outputs": [
    {
     "name": "stdout",
     "output_type": "stream",
     "text": [
      "root\n",
      " |-- field: string (nullable = true)\n",
      " |-- count: double (nullable = true)\n",
      " |-- mean: double (nullable = true)\n",
      " |-- stddev: double (nullable = true)\n",
      " |-- min: double (nullable = true)\n",
      " |-- max: double (nullable = true)\n",
      "\n"
     ]
    }
   ],
   "source": [
    "from pyspark.sql.types import DoubleType\n",
    "for c in summary_T.columns:\n",
    "    if c == 'field':\n",
    "        continue\n",
    "    else:\n",
    "        summary_T=summary_T.withColumn(c,summary_T[c].cast(DoubleType()))\n",
    "        \n",
    "summary_T.printSchema()"
   ]
  },
  {
   "cell_type": "markdown",
   "metadata": {},
   "source": [
    "withColumn(c, ...) создает или заменяет столбец c в DataFrame.\n",
    "\n",
    "summaryT[c] обращается к текущему столбцу c.\n",
    "\n",
    ".cast(DoubleType()) преобразует тип данных столбца в DoubleType."
   ]
  },
  {
   "cell_type": "code",
   "execution_count": 72,
   "metadata": {},
   "outputs": [],
   "source": [
    "def pivot_summary(desc):\n",
    "    from pyspark.sql import DataFrame\n",
    "    from pyspark.sql.types  import DoubleType\n",
    "    # Конвертируем в пандас Датафрейм\n",
    "    desc_pandas=desc.toPandas()\n",
    "    #Транспонируем\n",
    "    desc_pandas=desc_pandas.set_index('summary').transpose().reset_index()\n",
    "    desc_pandas=desc_pandas.rename(columns={'index':'field'})\n",
    "    desc_pandas=desc_pandas.rename_axis(None,axis=1)\n",
    "    # Конвертируем в спарк Датафрейм\n",
    "    desc_pandas=spark.createDataFrame(desc_pandas)\n",
    "    #Меняем тип данных со стринг на дабл\n",
    "    for c in desc_pandas.columns:\n",
    "        if c == 'field':\n",
    "            continue\n",
    "        else:\n",
    "            desc_pandas=desc_pandas.withColumn(c,desc_pandas[c].cast(DoubleType()))\n",
    "    return desc_pandas"
   ]
  },
  {
   "cell_type": "code",
   "execution_count": 73,
   "metadata": {},
   "outputs": [],
   "source": [
    "matches_summaryT=pivot_summary(matches_summary)\n",
    "misses_summaryT=pivot_summary(misses_summary)"
   ]
  },
  {
   "cell_type": "markdown",
   "metadata": {},
   "source": [
    "Делаем в SQL:"
   ]
  },
  {
   "cell_type": "code",
   "execution_count": 74,
   "metadata": {},
   "outputs": [],
   "source": [
    "matches_summaryT.createOrReplaceTempView('matches_desc')\n",
    "misses_summaryT.createOrReplaceTempView('misses_desc')"
   ]
  },
  {
   "cell_type": "code",
   "execution_count": 75,
   "metadata": {},
   "outputs": [
    {
     "name": "stdout",
     "output_type": "stream",
     "text": [
      "+------------+---------+--------------------+\n",
      "|       field|    total|               delta|\n",
      "+------------+---------+--------------------+\n",
      "|     cmp_plz|5736289.0|  0.9563812499852176|\n",
      "|cmp_lname_c2|   2464.0|  0.8064147192926268|\n",
      "|      cmp_by|5748337.0|  0.7762059675300512|\n",
      "|      cmp_bd|5748337.0|   0.775442311783404|\n",
      "|cmp_lname_c1|5749132.0|  0.6838772482599227|\n",
      "|      cmp_bm|5748337.0|  0.5109496938298685|\n",
      "|cmp_fname_c1|5748125.0|  0.2854529057467897|\n",
      "|cmp_fname_c2| 103698.0| 0.09104268062279897|\n",
      "|     cmp_sex|5749132.0|0.032408185250332844|\n",
      "+------------+---------+--------------------+\n",
      "\n"
     ]
    }
   ],
   "source": [
    "spark.sql('''\n",
    "        SELECT\n",
    "            ma.field,\n",
    "            ma.count + mi.count AS total,\n",
    "            ma.mean - mi.mean AS delta\n",
    "        FROM\n",
    "            matches_desc AS ma\n",
    "        INNER JOIN\n",
    "            misses_desc AS mi\n",
    "        ON\n",
    "            ma.field = mi.field\n",
    "        WHERE\n",
    "            ma.field NOT IN ('id_1', 'id_2')\n",
    "        ORDER BY\n",
    "            delta DESC,\n",
    "            total DESC\n",
    "          ''').show()"
   ]
  },
  {
   "cell_type": "markdown",
   "metadata": {},
   "source": [
    "Хороший признак имеет два свойства: у него существенно различаются значения для совпадений и несоответствий (поэтому разница между средними значениями будет большой), и он встречается в данных достаточно часто, так что мы можем надеяться, что он регулярно доступен для любой пары записей. По этим критериям cmp_fname_c2 нам не подходит, потому что состоит по большей части из пропусков, а разница в среднем значении для совпадений и несовпадений относительно мала 0,09 для оценки, которая колеблется от 0 до 1. Признак cmp_sex также не особенно полезен, потому что, хотя он доступен для любой пары записей, разница в средних значениях составляет всего 0,03."
   ]
  },
  {
   "cell_type": "markdown",
   "metadata": {},
   "source": [
    "Зато признаки cmp_plz и cmp_by просто превосходны. Они почти всегда встречаются\n",
    "для любой пары записей, и разница в средних значениях весьма велика (более 0,77\n",
    "для обоих признаков). Признаки cmp_bd, cmp_1name_c1 и cmp_bm также выглядят по- лезными: они обычно доступны в наборе данных, а разница в средних значениях совпадений и несоответствий значительна. Признаки cmp_fname_c1 и cmp_1name_c2 представляют собой нечто промежуточное: cmp_fname_c1 не очень хорошо отделяет совпадения от несовпадений (разница в средних значениях составляет всего 0,28), хотя обычно он доступен для пары запи- сей, тогда как стр_1name_c2 имеет большую разницу в средних значениях, но почти\n",
    "всегда отсутствует в данных. Поэтому не совсем понятно, при каких обстоятельст-\n",
    "вах мы должны включать эти признаки в нашу модель на основе текущих данных. Сейчас мы будем использовать простую модель оценки, которая ранжирует сходст- во пар записей на основе сумм значений явно хороших признаков cmp_plz, cmp_by, cmp_bd, cmp_lname_c1 и cmp_bm. Для нескольких записей, в которых отсутствуют зна- чения этих признаков, при суммировании мы будем использовать о вместо значе- ния null. Мы можем получить приблизительное представление о точности нашей простой модели, создав фрейм данных вычисленных оценок и значений столбца is_match и определив, насколько хорошо оценка модели различает совпадения и несовпадения при различных пороговых значениях."
   ]
  },
  {
   "cell_type": "markdown",
   "metadata": {},
   "source": [
    "##### Функция оценивания\n",
    "Для нашей функции оценивания мы суммируем значения пяти полей (cmp_lname_cl, cmp_plz, cmp_by, cmp_bd и cmp_bm). Для этого мы будем использовать expr из pyspark.sql.functions. Функция expr преобразует строку входного выражения в столбец, который она представляет. Эта строка может даже включать несколько столбцов."
   ]
  },
  {
   "cell_type": "code",
   "execution_count": 76,
   "metadata": {},
   "outputs": [],
   "source": [
    "good_features = [\"cmp_lname_c1\", \"cmp_plz\", \"cmp_by\", \"cmp_bd\", \"cmp_bm\"]"
   ]
  },
  {
   "cell_type": "code",
   "execution_count": 77,
   "metadata": {},
   "outputs": [],
   "source": [
    "sum_expression = \" + \".join(good_features)"
   ]
  },
  {
   "cell_type": "code",
   "execution_count": 78,
   "metadata": {},
   "outputs": [
    {
     "data": {
      "text/plain": [
       "'cmp_lname_c1 + cmp_plz + cmp_by + cmp_bd + cmp_bm'"
      ]
     },
     "execution_count": 78,
     "metadata": {},
     "output_type": "execute_result"
    }
   ],
   "source": [
    "sum_expression"
   ]
  },
  {
   "cell_type": "markdown",
   "metadata": {},
   "source": [
    "Функция expr принимает строку, содержащую SQL-выражение, и возвращает объект колонки, который можно использовать в методах DataFrame, таких как select, withColumn, и других."
   ]
  },
  {
   "cell_type": "code",
   "execution_count": 80,
   "metadata": {},
   "outputs": [
    {
     "name": "stdout",
     "output_type": "stream",
     "text": [
      "+-----+--------+\n",
      "|score|is_match|\n",
      "+-----+--------+\n",
      "|  4.0|    true|\n",
      "|  5.0|    true|\n",
      "|  5.0|    true|\n",
      "|  5.0|    true|\n",
      "|  5.0|    true|\n",
      "|  5.0|    true|\n",
      "|  5.0|    true|\n",
      "|  4.0|    true|\n",
      "|  5.0|    true|\n",
      "|  5.0|    true|\n",
      "|  5.0|    true|\n",
      "|  5.0|    true|\n",
      "|  5.0|    true|\n",
      "|  5.0|    true|\n",
      "|  4.0|    true|\n",
      "|  5.0|    true|\n",
      "|  5.0|    true|\n",
      "|  5.0|    true|\n",
      "|  5.0|    true|\n",
      "|  5.0|    true|\n",
      "+-----+--------+\n",
      "only showing top 20 rows\n",
      "\n"
     ]
    }
   ],
   "source": [
    "from pyspark.sql.functions import expr\n",
    "\n",
    "scored=parsed.fillna(0,subset=good_features)\\\n",
    "    .withColumn('score', expr(sum_expression))\\\n",
    "    .select('score', 'is_match')\n",
    "scored.show()"
   ]
  },
  {
   "cell_type": "code",
   "execution_count": 85,
   "metadata": {},
   "outputs": [
    {
     "name": "stdout",
     "output_type": "stream",
     "text": [
      "+-----+--------+\n",
      "|above|is_match|\n",
      "+-----+--------+\n",
      "| true|    true|\n",
      "| true|    true|\n",
      "| true|    true|\n",
      "| true|    true|\n",
      "| true|    true|\n",
      "| true|    true|\n",
      "| true|    true|\n",
      "| true|    true|\n",
      "| true|    true|\n",
      "| true|    true|\n",
      "+-----+--------+\n",
      "only showing top 10 rows\n",
      "\n"
     ]
    }
   ],
   "source": [
    "scored.selectExpr(f\"score >= {4} as above\", \"is_match\").show(10)"
   ]
  },
  {
   "cell_type": "code",
   "execution_count": 92,
   "metadata": {},
   "outputs": [],
   "source": [
    "from pyspark.sql import SparkSession, DataFrame"
   ]
  },
  {
   "cell_type": "markdown",
   "metadata": {},
   "source": [
    "Метод pivot в PySpark позволяет преобразовать уникальные значения из одного столбца в заголовки столбцов и сгруппировать другие данные в соответствии с этими значениями. Этот метод полезен для создания сводных таблиц и выполнения агрегатных функций.\n",
    "\n",
    "Аргументы\n",
    "\n",
    "pivot_col (обязательный): Имя столбца, значения которого будут использованы в качестве заголовков новых столбцов.\n",
    "\n",
    "values (необязательный): Список уникальных значений из столбца pivot_col, которые будут использованы для создания новых столбцов. Если не указано, PySpark автоматически определит уникальные значения.\n",
    "\n",
    "Возвращаемое значение\n",
    "\n",
    "Метод pivot возвращает объект GroupedData, который можно использовать для применения агрегатных функций, таких как count, sum, avg и других."
   ]
  },
  {
   "cell_type": "code",
   "execution_count": 96,
   "metadata": {},
   "outputs": [],
   "source": [
    "def crossTabs(scored: DataFrame, t: float) -> DataFrame:\n",
    "    # Создаем стобец above по условию и фильтруем scored а также выбираем  столбец is_match одновременно с помощью функции selectExpr\n",
    "    # Затем группируем по above\n",
    "    # Затем применяем метод spark pivot и получаем столбцы из строк столбца is_match со значеняеми true или false\n",
    "    # Считаем все их\n",
    "    # И показываем\n",
    "    return scored.selectExpr(f\"score >= {t} as above\", \"is_match\")\\\n",
    "        .groupBy('above')\\\n",
    "        .pivot(pivot_col='is_match',values=('true','false'))\\\n",
    "        .count()\\\n",
    "        .show()\n",
    "    "
   ]
  },
  {
   "cell_type": "code",
   "execution_count": 97,
   "metadata": {},
   "outputs": [
    {
     "name": "stdout",
     "output_type": "stream",
     "text": [
      "+-----+-----+-------+\n",
      "|above| true|  false|\n",
      "+-----+-----+-------+\n",
      "| true|20871|    637|\n",
      "|false|   60|5727564|\n",
      "+-----+-----+-------+\n",
      "\n"
     ]
    }
   ],
   "source": [
    "crossTabs(scored, 4)\n",
    "    "
   ]
  },
  {
   "cell_type": "code",
   "execution_count": 98,
   "metadata": {},
   "outputs": [
    {
     "name": "stdout",
     "output_type": "stream",
     "text": [
      "+-----+-----+-------+\n",
      "|above| true|  false|\n",
      "+-----+-----+-------+\n",
      "| true|20916| 315213|\n",
      "|false|   15|5412988|\n",
      "+-----+-----+-------+\n",
      "\n"
     ]
    }
   ],
   "source": [
    "crossTabs(scored, 3)"
   ]
  },
  {
   "cell_type": "code",
   "execution_count": 99,
   "metadata": {},
   "outputs": [
    {
     "name": "stdout",
     "output_type": "stream",
     "text": [
      "+-----+-----+-------+\n",
      "|above| true|  false|\n",
      "+-----+-----+-------+\n",
      "| true|20931| 596414|\n",
      "|false| NULL|5131787|\n",
      "+-----+-----+-------+\n",
      "\n"
     ]
    }
   ],
   "source": [
    "crossTabs(scored, 2)"
   ]
  },
  {
   "cell_type": "markdown",
   "metadata": {},
   "source": [
    "Несмотря на то что количество ложноположительных оценок выше, чем хотелось бы, этот более щедрый фильтр по-прежнему удаляет из нашего рассмотрения 90% несовпадающих записей, оставляя каждое положительное совпадение. Хотя это весьма неплохо, можно сделать еще лучше; подумайте, сможете ли вы найти спо- соб использовать некоторые другие значения из MatchData (как отсутствующие, так и нет), чтобы придумать функцию оценки, которая успешно идентифицирует каж- дое совпадение true ценой менее 100 ложноположительных срабатываний."
   ]
  }
 ],
 "metadata": {
  "kernelspec": {
   "display_name": "Python 3",
   "language": "python",
   "name": "python3"
  },
  "language_info": {
   "codemirror_mode": {
    "name": "ipython",
    "version": 3
   },
   "file_extension": ".py",
   "mimetype": "text/x-python",
   "name": "python",
   "nbconvert_exporter": "python",
   "pygments_lexer": "ipython3",
   "version": "3.10.11"
  }
 },
 "nbformat": 4,
 "nbformat_minor": 2
}
